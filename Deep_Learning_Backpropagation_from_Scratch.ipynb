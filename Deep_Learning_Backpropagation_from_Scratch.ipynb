{
  "nbformat": 4,
  "nbformat_minor": 0,
  "metadata": {
    "colab": {
      "name": "Deep Learning: Backpropagation from Scratch",
      "provenance": [],
      "collapsed_sections": [],
      "authorship_tag": "ABX9TyMR87uVqwztEOESwbIXS5dm",
      "include_colab_link": true
    },
    "kernelspec": {
      "name": "python3",
      "display_name": "Python 3"
    },
    "language_info": {
      "name": "python"
    }
  },
  "cells": [
    {
      "cell_type": "markdown",
      "metadata": {
        "id": "view-in-github",
        "colab_type": "text"
      },
      "source": [
        "<a href=\"https://colab.research.google.com/github/jeric250/Data-Science-Projects/blob/main/Deep_Learning_Backpropagation_from_Scratch.ipynb\" target=\"_parent\"><img src=\"https://colab.research.google.com/assets/colab-badge.svg\" alt=\"Open In Colab\"/></a>"
      ]
    },
    {
      "cell_type": "markdown",
      "source": [
        "<h3>Build a Simple, Custom Network with Backpropagation</h3>\n",
        "\n",
        "The objective is to build backpropagation and optimizers for update of weights from scratch for a simple network using a fictional dataset. The optimizers are standard gradient descent, momentum based gradient descent and Adam. \n",
        "\n",
        "The MLP inspired network architecture can be found in the image below. \n",
        "\n",
        "This is partly inspired by the course work from the Applied Roots's [Applied Machine Learning course](https://www.appliedaicourse.com/course/11/Applied-Machine-learning-course)."
      ],
      "metadata": {
        "id": "XXrX_3pzWbvI"
      }
    },
    {
      "cell_type": "markdown",
      "source": [
        "<img src='https://i.imgur.com/seSGbNS.png'>"
      ],
      "metadata": {
        "id": "DhKIB_rJQ9lW"
      }
    },
    {
      "cell_type": "code",
      "source": [
        "import pickle\n",
        "import numpy as np\n",
        "from tqdm import tqdm\n",
        "import matplotlib.pyplot as plt\n",
        "\n",
        "with open('/content/drive/MyDrive/Data/data_backpro.pkl', 'rb') as f:\n",
        "    data = pickle.load(f)\n",
        "print(data.shape)\n",
        "X = data[:, :5]\n",
        "y = data[:, -1]\n",
        "print(X.shape, y.shape)"
      ],
      "metadata": {
        "colab": {
          "base_uri": "https://localhost:8080/"
        },
        "id": "7rgWjfNUVhG5",
        "outputId": "0d8ef30d-a482-4c40-f789-8b944596ecfd"
      },
      "execution_count": null,
      "outputs": [
        {
          "output_type": "stream",
          "name": "stdout",
          "text": [
            "(506, 6)\n",
            "(506, 5) (506,)\n"
          ]
        }
      ]
    },
    {
      "cell_type": "markdown",
      "source": [
        "## <font color='blue'>Part 1: Implementing Forward Propagation, Backpropagation</font>"
      ],
      "metadata": {
        "id": "0YNyAFF3anEp"
      }
    },
    {
      "cell_type": "markdown",
      "source": [
        "<h4>1.1 Forward Propagation</h4>"
      ],
      "metadata": {
        "id": "zONF9ktMiHVm"
      }
    },
    {
      "cell_type": "code",
      "source": [
        "def sigmoid(z):\n",
        "    '''Compute the sigmoid of a given value z'''\n",
        "    return 1/(1+np.exp(-z))"
      ],
      "metadata": {
        "id": "5tWjsVfdh9zX"
      },
      "execution_count": null,
      "outputs": []
    },
    {
      "cell_type": "code",
      "source": [
        "def forward_propagation(x, y, w):\n",
        "        '''Compute the forward propagation according to custom NN'''\n",
        "        # x: input data point (1 record/row)\n",
        "        # y: output varible\n",
        "        # w: weight array (of length 9 since there are 9 weights)\n",
        "\n",
        "        # breakdown forward prop into 3 sections: (1) compute until exp, (2) compute until tanh, (3) compute until sigmoid\n",
        "        val_1 = (w[0]*x[0]+w[1]*x[1]) * (w[0]*x[0]+w[1]*x[1]) + w[5]\n",
        "        part_1 = np.exp(val_1)\n",
        "        \n",
        "        val_2 = part_1 + w[6]\n",
        "        part_2 = np.tanh(val_2)\n",
        "\n",
        "        val_3 = np.sin(w[2]*x[2])*(w[3]*x[3] + w[4]*x[4]) + w[7]\n",
        "        part_3 = sigmoid(val_3)\n",
        "\n",
        "        # compute predicted y\n",
        "        y_hat = part_2 + w[8]*part_3\n",
        "\n",
        "        # create dict to store intermediate values to be used in backpropagation\n",
        "        forward_dict={}\n",
        "        forward_dict['exp']= part_1\n",
        "        forward_dict['sigmoid'] = part_3\n",
        "        forward_dict['tanh'] = part_2\n",
        "        forward_dict['loss'] = (y - y_hat)**2\n",
        "        forward_dict['dy_pred'] = -2 * (y - y_hat) # derivate of L w.r. to y_hat\n",
        "        \n",
        "        return forward_dict"
      ],
      "metadata": {
        "id": "V0hvi48ciZIl"
      },
      "execution_count": null,
      "outputs": []
    },
    {
      "cell_type": "markdown",
      "source": [
        "<h4>1.2 Backward Propagation</h4>"
      ],
      "metadata": {
        "id": "ml-ByJ6AoAi4"
      }
    },
    {
      "cell_type": "code",
      "source": [
        "def backward_propagation(x,y,w,forward_dict):\n",
        "    '''Compute backward propagation'''\n",
        "    # forward_dict: the outputs of the forward_propagation() function\n",
        "    \n",
        "    # use chain rule: derivative of L w.r. to weight = L w.r. to y_hat * derivative of y_hat w.r. weight \n",
        "    dw9 = forward_dict['dy_pred'] * forward_dict['sigmoid']\n",
        "    dw8 = forward_dict['dy_pred'] * (forward_dict['sigmoid']*(1-forward_dict['sigmoid'])) * w[8]\n",
        "    dw7 = forward_dict['dy_pred'] * (1 - forward_dict['tanh']**2)\n",
        "    dw6 = forward_dict['dy_pred'] * (1 - forward_dict['tanh']**2) * forward_dict['exp']\n",
        "    dw5 = forward_dict['dy_pred'] * (forward_dict['sigmoid']*(1-forward_dict['sigmoid'])) * w[8] * np.sin(x[2]*w[2]) * x[4]\n",
        "    dw4 = forward_dict['dy_pred'] * (forward_dict['sigmoid']*(1-forward_dict['sigmoid'])) * w[8] * np.sin(x[2]*w[2]) * x[3]\n",
        "    dw3 = forward_dict['dy_pred'] * (forward_dict['sigmoid']*(1-forward_dict['sigmoid'])) * w[8] * (x[2]*w[3]*x[3]*np.cos(x[2]*w[2]) + x[2]*w[4]*x[4]*np.cos(x[2]*w[2]))\n",
        "    dw2 = forward_dict['dy_pred'] * (1 - forward_dict['tanh']**2) * forward_dict['exp'] *2*((w[0]*x[0])+(w[1]*x[1]))*x[1]\n",
        "    dw1 = forward_dict['dy_pred'] * (1 - forward_dict['tanh']**2) * forward_dict['exp'] *2*((w[0]*x[0])+(w[1]*x[1]))*x[0]\n",
        "    \n",
        "    # store gradients in a dict\n",
        "    backward_dict={}\n",
        "    backward_dict['dw1']= dw1\n",
        "    backward_dict['dw2']= dw2\n",
        "    backward_dict['dw3']= dw3\n",
        "    backward_dict['dw4']= dw4\n",
        "    backward_dict['dw5']= dw5\n",
        "    backward_dict['dw6']= dw6\n",
        "    backward_dict['dw7']= dw7\n",
        "    backward_dict['dw8']= dw8\n",
        "    backward_dict['dw9']= dw9\n",
        "    \n",
        "    return backward_dict"
      ],
      "metadata": {
        "id": "w0PeuTUhn6NR"
      },
      "execution_count": null,
      "outputs": []
    },
    {
      "cell_type": "markdown",
      "source": [
        "## <font color='blue'>Part 2: Implementing Optimizers </font>"
      ],
      "metadata": {
        "id": "DmCm7FuYaaDA"
      }
    },
    {
      "cell_type": "markdown",
      "source": [
        "<h4>2.1 Vanilla Update of Weights</h4>"
      ],
      "metadata": {
        "id": "vGGxcRAWcJyi"
      }
    },
    {
      "cell_type": "code",
      "source": [
        "def vanilla_update(x,y,w,epochs,eta):\n",
        "  '''Implement vanilla update of weights: w[t] = w[t-1] - learning rate * gradient of L w.r. weight'''\n",
        "  total_loss = []\n",
        "  for e in range(epochs): # for each epoch\n",
        "    loss = []\n",
        "    for i in range(len(x)): # for each data point, compute gradient and update weights\n",
        "      forward_dict=forward_propagation(x[i],y[i],w)\n",
        "      backward_dict=backward_propagation(x[i],y[i],w,forward_dict)\n",
        "      gradients_list=list(backward_dict.values()) # list of dw1, dw2,..., dw9 values\n",
        "      w = w - eta * np.array(gradients_list) # change list to array to allow multiplication of floats (eta and gradient values)\n",
        "\n",
        "      # use updated weights to predict y given x, and obtain loss value\n",
        "      final_y_pred=forward_propagation(x[i],y[i],w)\n",
        "      loss.append(final_y_pred['loss'])\n",
        "    total_loss.append(sum(loss)/len(loss)) # compute average loss per epoch\n",
        "\n",
        "  return w,total_loss"
      ],
      "metadata": {
        "id": "_ti6Kr04lIE7"
      },
      "execution_count": null,
      "outputs": []
    },
    {
      "cell_type": "code",
      "source": [
        "w = [ 0.00271756,  0.01260512,  0.00167639, -0.00207756,  0.00720768, 0.00114524,  0.00684168,  0.02242521,  0.01296444]\n",
        "epoch = 20\n",
        "\n",
        "w_vanilla, loss_vanilla = vanilla_update(X,y,w,epochs=epoch,eta=0.001)\n",
        "print(w_vanilla)\n",
        "print(len(loss_vanilla))"
      ],
      "metadata": {
        "colab": {
          "base_uri": "https://localhost:8080/"
        },
        "id": "IoUuEJKXyGXs",
        "outputId": "fe575997-b699-432b-b99c-9d035f9f01eb"
      },
      "execution_count": null,
      "outputs": [
        {
          "output_type": "stream",
          "name": "stdout",
          "text": [
            "[0.0384021  0.05010794 0.01129827 0.00146175 0.01337657 0.5046415\n",
            " 0.40140406 0.42955494 1.35767824]\n",
            "20\n"
          ]
        }
      ]
    },
    {
      "cell_type": "code",
      "source": [
        "plt.plot(range(epoch),loss_vanilla)\n",
        "plt.title('Epoch vs Loss with Vanilla Update')\n",
        "plt.xlabel('Epoch')\n",
        "plt.ylabel('Loss')\n",
        "plt.show()"
      ],
      "metadata": {
        "colab": {
          "base_uri": "https://localhost:8080/",
          "height": 295
        },
        "id": "i-07GVIsyHlD",
        "outputId": "29b81a48-db73-4431-9217-9155f986e697"
      },
      "execution_count": null,
      "outputs": [
        {
          "output_type": "display_data",
          "data": {
            "text/plain": [
              "<Figure size 432x288 with 1 Axes>"
            ],
            "image/png": "[encoded data removed]"
          },
          "metadata": {
            "needs_background": "light"
          }
        }
      ]
    },
    {
      "cell_type": "markdown",
      "source": [
        "<h4>2.2 Momentum Update of Weights</h4>"
      ],
      "metadata": {
        "id": "fKswIHu_-vXo"
      }
    },
    {
      "cell_type": "code",
      "source": [
        "# ref: https://cs231n.github.io/neural-networks-3/\n",
        "def momentum_update(x,y,w,epochs,eta,mu):\n",
        "  '''Implement momentum update of weights: w[t] = w[t-1] + (momentum * moving average of gradients - learning rate * gradient of L w.r. weight)'''\n",
        "  v=0\n",
        "  total_loss = []\n",
        "  for e in range(epochs): # for each epoch\n",
        "    loss = []\n",
        "    for i in range(len(x)): # for each data point, compute gradient and update weights\n",
        "      forward_dict=forward_propagation(x[i],y[i],w)\n",
        "      backward_dict=backward_propagation(x[i],y[i],w,forward_dict)\n",
        "      gradients_list=list(backward_dict.values()) # list of dw1, dw2,..., dw9 values\n",
        "      v = mu * v - eta * np.array(gradients_list)\n",
        "      w = w + v\n",
        "\n",
        "      # use updated weights to predict y given x, and obtain loss value\n",
        "      final_y_pred=forward_propagation(x[i],y[i],w)\n",
        "      loss.append(final_y_pred['loss'])\n",
        "    total_loss.append(sum(loss)/len(loss)) # compute average loss per epoch\n",
        "\n",
        "  return w,total_loss"
      ],
      "metadata": {
        "id": "qWzpjFQJvmOa"
      },
      "execution_count": null,
      "outputs": []
    },
    {
      "cell_type": "code",
      "source": [
        "w = [ 0.00271756,  0.01260512,  0.00167639, -0.00207756,  0.00720768, 0.00114524,  0.00684168,  0.02242521,  0.01296444]\n",
        "epoch = 20\n",
        "\n",
        "w_momentum, loss_momentum = momentum_update(X,y,w,epochs=epoch,eta=0.001, mu=0.5)\n",
        "\n",
        "plt.plot(range(epoch),loss_momentum)\n",
        "plt.title('Epoch vs Loss with Momentum Update')\n",
        "plt.xlabel('Epoch')\n",
        "plt.ylabel('Loss')\n",
        "# plt.legend()\n",
        "plt.show()"
      ],
      "metadata": {
        "colab": {
          "base_uri": "https://localhost:8080/",
          "height": 295
        },
        "id": "SiHAY5wa3NXw",
        "outputId": "8a45e6e2-bb3a-4048-ca19-a9f5253eafc8"
      },
      "execution_count": null,
      "outputs": [
        {
          "output_type": "display_data",
          "data": {
            "text/plain": [
              "<Figure size 432x288 with 1 Axes>"
            ],
            "image/png": "[encoded data removed]"
          },
          "metadata": {
            "needs_background": "light"
          }
        }
      ]
    },
    {
      "cell_type": "markdown",
      "source": [
        "<h4>2.3 Adam Update of Weights</h4>"
      ],
      "metadata": {
        "id": "AaBzGL2r_K0f"
      }
    },
    {
      "cell_type": "code",
      "source": [
        "# ref: https://cs231n.github.io/neural-networks-3/\n",
        "# https://machinelearningmastery.com/adam-optimization-algorithm-for-deep-learning/\n",
        "def adam_update(x,y,w,epochs,eta,beta1,beta2,eps=1e-8):\n",
        "  '''Implement Adam update of weights using first moment and second moment estimates with bias correction'''\n",
        "  m,v = 0, 0\n",
        "  t = 1\n",
        "  total_loss = []\n",
        "  for e in range(epochs): # for each epoch\n",
        "    loss = []\n",
        "    for i in range(len(x)): # for each data point, compute gradient and update weights\n",
        "      forward_dict=forward_propagation(x[i],y[i],w)\n",
        "      backward_dict=backward_propagation(x[i],y[i],w,forward_dict)\n",
        "      gradients_list=list(backward_dict.values()) # list of dw1, dw2,..., dw9 values\n",
        "      m = beta1*m + (1-beta1)*np.array(gradients_list) # compute exponential moving average of gradient, with beta1 controlling the decay rate of the moving average\n",
        "      mt = m / (1-beta1**t) # bias correction\n",
        "\n",
        "      v = beta2*v + (1-beta2)*(np.array(gradients_list)**2) # compute exponential moving average of squared gradient, with beta2 controlling the decay rate of the moving average\n",
        "      vt = v / (1-beta2**t) # bias correction\n",
        "\n",
        "      w = w - eta * mt / (np.sqrt(vt) + eps)\n",
        "      t = t + 1\n",
        "\n",
        "      # use updated weights to predict y given x, and obtain loss value\n",
        "      final_y_pred=forward_propagation(x[i],y[i],w)\n",
        "      loss.append(final_y_pred['loss'])\n",
        "    total_loss.append(sum(loss)/len(loss)) # compute average loss per epoch\n",
        "\n",
        "  return w,total_loss"
      ],
      "metadata": {
        "id": "lTQF74vL3X4r"
      },
      "execution_count": null,
      "outputs": []
    },
    {
      "cell_type": "code",
      "source": [
        "w = [ 0.00271756,  0.01260512,  0.00167639, -0.00207756,  0.00720768, 0.00114524,  0.00684168,  0.02242521,  0.01296444]\n",
        "epoch = 20\n",
        "\n",
        "w_adam, loss_adam = adam_update(X,y,w,epochs=epoch,eta=0.001, beta1=0.9, beta2=0.99)\n",
        "print(w_adam)\n",
        "print(len(loss_adam))"
      ],
      "metadata": {
        "colab": {
          "base_uri": "https://localhost:8080/"
        },
        "id": "FED75-l26HY9",
        "outputId": "6c030243-3834-4707-80f5-e49fb0cc2e3b"
      },
      "execution_count": null,
      "outputs": [
        {
          "output_type": "stream",
          "name": "stdout",
          "text": [
            "[ 0.6908982   0.71031908 -0.99884809 -0.99471144 -0.99740866  1.00940934\n",
            "  0.91187884  1.0043493   0.99612103]\n",
            "20\n"
          ]
        }
      ]
    },
    {
      "cell_type": "code",
      "source": [
        "plt.plot(range(epoch),loss_adam)\n",
        "plt.title('Epoch vs Loss with Adam Update')\n",
        "plt.xlabel('Epoch')\n",
        "plt.ylabel('Loss')\n",
        "# plt.legend()\n",
        "plt.show()"
      ],
      "metadata": {
        "colab": {
          "base_uri": "https://localhost:8080/",
          "height": 295
        },
        "id": "ZN1PYdC36Huj",
        "outputId": "3d39fdc3-4eb7-45c2-9151-1bdf50d281cc"
      },
      "execution_count": null,
      "outputs": [
        {
          "output_type": "display_data",
          "data": {
            "text/plain": [
              "<Figure size 432x288 with 1 Axes>"
            ],
            "image/png": "[encoded data removed]"
          },
          "metadata": {
            "needs_background": "light"
          }
        }
      ]
    },
    {
      "cell_type": "code",
      "source": [
        "# plot all 3 updates\n",
        "plt.plot(range(epoch),loss_vanilla, 'g', label = 'Loss with Vanilla Update')\n",
        "plt.plot(range(epoch),loss_momentum, 'b', label = 'Loss with Momentum Update')\n",
        "plt.plot(range(epoch),loss_adam, 'r', label = 'Loss with Adam Update')\n",
        "plt.title('Epoch vs Loss')\n",
        "plt.xlabel('Epoch')\n",
        "plt.ylabel('Loss')\n",
        "plt.legend()\n",
        "plt.show()"
      ],
      "metadata": {
        "colab": {
          "base_uri": "https://localhost:8080/",
          "height": 339
        },
        "id": "UN2zOQKW65AH",
        "outputId": "4f1a4ecd-ee47-484b-fa87-417192b9dc0a"
      },
      "execution_count": null,
      "outputs": [
        {
          "output_type": "display_data",
          "data": {
            "text/plain": [
              "<Figure size 460.8x345.6 with 1 Axes>"
            ],
            "image/png": "[encoded data removed]"
          },
          "metadata": {
            "needs_background": "light"
          }
        }
      ]
    },
    {
      "cell_type": "markdown",
      "source": [
        ">As expected, Adam appears to perform the best in updating weights that minimizes the error, followed by momentum and vanilla. "
      ],
      "metadata": {
        "id": "J8bm_eAmVwBZ"
      }
    }
  ]
}