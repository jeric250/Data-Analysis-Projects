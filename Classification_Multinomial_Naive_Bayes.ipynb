{
  "nbformat": 4,
  "nbformat_minor": 0,
  "metadata": {
    "colab": {
      "name": "Classification: Multinomial Naive Bayes",
      "provenance": [],
      "collapsed_sections": [],
      "authorship_tag": "ABX9TyPm1R+ubnnFWneLIW7pzWWk",
      "include_colab_link": true
    },
    "kernelspec": {
      "name": "python3",
      "display_name": "Python 3"
    },
    "language_info": {
      "name": "python"
    }
  },
  "cells": [
    {
      "cell_type": "markdown",
      "metadata": {
        "id": "view-in-github",
        "colab_type": "text"
      },
      "source": [
        "<a href=\"https://colab.research.google.com/github/jeric250/Data-Science-Projects/blob/main/Classification_Multinomial_Naive_Bayes.ipynb\" target=\"_parent\"><img src=\"https://colab.research.google.com/assets/colab-badge.svg\" alt=\"Open In Colab\"/></a>"
      ]
    },
    {
      "cell_type": "markdown",
      "source": [
        "<h3>Multinomial Naive Bayes on DonorsChoose Dataset</h3>\n",
        "\n",
        "The dataset contains classroom project proposals in need of funding received by [DonorsChoose](https://www.donorschoose.org/), a NGO based in the US. \n",
        "\n",
        "The goal is to build a model to predict whether a project proposal submitted by a teacher will be approved, using the text of project descriptions as well as additional metadata about the project, teacher, and school. The NGO can use this information to identify projects most likely to need further review before approval.\n",
        "\n",
        "The dataset contains a mix of categorical, numerical and text data. For text data, both Bag of Words (BoW) and TF-IDF vectorizers are used to convert text into vectors, which are then seperately used by the model for performance comparison.\n",
        "\n",
        "This is partly inspired by the course work from the Applied Roots's [Applied Machine Learning course](https://www.appliedaicourse.com/course/11/Applied-Machine-learning-course)."
      ],
      "metadata": {
        "id": "PZI4Kx8agu1l"
      }
    },
    {
      "cell_type": "code",
      "execution_count": null,
      "metadata": {
        "id": "ADp3iANAJEk8"
      },
      "outputs": [],
      "source": [
        "%matplotlib inline\n",
        "import warnings\n",
        "warnings.filterwarnings(\"ignore\")\n",
        "\n",
        "import pandas as pd\n",
        "import numpy as np\n",
        "import nltk\n",
        "import matplotlib.pyplot as plt\n",
        "import seaborn as sns\n",
        "from sklearn.feature_extraction.text import TfidfVectorizer\n",
        "from sklearn.feature_extraction.text import CountVectorizer\n",
        "from sklearn.preprocessing import OneHotEncoder\n",
        "from sklearn.preprocessing import Normalizer\n",
        "from sklearn.model_selection import train_test_split\n",
        "from sklearn.model_selection import RandomizedSearchCV\n",
        "from sklearn.metrics import confusion_matrix\n",
        "from sklearn import metrics\n",
        "from sklearn.metrics import roc_curve, auc\n",
        "\n",
        "from sklearn.naive_bayes import MultinomialNB\n",
        "\n",
        "import re\n",
        "\n",
        "import pickle\n",
        "from tqdm import tqdm\n",
        "import os"
      ]
    },
    {
      "cell_type": "markdown",
      "source": [
        "## 1. Load and Split Data"
      ],
      "metadata": {
        "id": "afrjUPl7KQP5"
      }
    },
    {
      "cell_type": "code",
      "source": [
        "from google.colab import drive\n",
        "drive.mount('/content/drive')"
      ],
      "metadata": {
        "colab": {
          "base_uri": "https://localhost:8080/"
        },
        "id": "PgZV6rLmLUkf",
        "outputId": "0f2268d9-62b7-4d0e-db17-4090a4071d54"
      },
      "execution_count": null,
      "outputs": [
        {
          "output_type": "stream",
          "name": "stdout",
          "text": [
            "Mounted at /content/drive\n"
          ]
        }
      ]
    },
    {
      "cell_type": "code",
      "source": [
        "data = pd.read_csv('/content/drive/MyDrive/Data/preprocessed_data.csv', nrows=80000) # obtain 80,000 data points"
      ],
      "metadata": {
        "id": "SavKuk4NLpfE"
      },
      "execution_count": null,
      "outputs": []
    },
    {
      "cell_type": "code",
      "source": [
        "data.info()"
      ],
      "metadata": {
        "colab": {
          "base_uri": "https://localhost:8080/"
        },
        "id": "g27AT8zTJpyo",
        "outputId": "b82b6734-9ce6-4abf-878b-afe0fbea3a1f"
      },
      "execution_count": null,
      "outputs": [
        {
          "output_type": "stream",
          "name": "stdout",
          "text": [
            "<class 'pandas.core.frame.DataFrame'>\n",
            "RangeIndex: 80000 entries, 0 to 79999\n",
            "Data columns (total 9 columns):\n",
            " #   Column                                        Non-Null Count  Dtype  \n",
            "---  ------                                        --------------  -----  \n",
            " 0   school_state                                  80000 non-null  object \n",
            " 1   teacher_prefix                                80000 non-null  object \n",
            " 2   project_grade_category                        80000 non-null  object \n",
            " 3   teacher_number_of_previously_posted_projects  80000 non-null  int64  \n",
            " 4   project_is_approved                           80000 non-null  int64  \n",
            " 5   clean_categories                              80000 non-null  object \n",
            " 6   clean_subcategories                           80000 non-null  object \n",
            " 7   essay                                         80000 non-null  object \n",
            " 8   price                                         80000 non-null  float64\n",
            "dtypes: float64(1), int64(2), object(6)\n",
            "memory usage: 5.5+ MB\n"
          ]
        }
      ]
    },
    {
      "cell_type": "code",
      "source": [
        "print(\"No. of Data Points:\", data.shape[0])\n",
        "print(\"No. of Features:\", data.shape[1])\n",
        "print(\"\\nUnique values:\\n\", data.nunique())"
      ],
      "metadata": {
        "colab": {
          "base_uri": "https://localhost:8080/"
        },
        "id": "O1brqReUKyFq",
        "outputId": "e7af7ab2-a939-4235-817e-e76696c9ce9d"
      },
      "execution_count": null,
      "outputs": [
        {
          "output_type": "stream",
          "name": "stdout",
          "text": [
            "No. of Data Points: 80000\n",
            "No. of Features: 9\n",
            "\n",
            "Unique values:\n",
            " school_state                                       51\n",
            "teacher_prefix                                      5\n",
            "project_grade_category                              4\n",
            "teacher_number_of_previously_posted_projects      335\n",
            "project_is_approved                                 2\n",
            "clean_categories                                   51\n",
            "clean_subcategories                               392\n",
            "essay                                           79476\n",
            "price                                           42636\n",
            "dtype: int64\n"
          ]
        }
      ]
    },
    {
      "cell_type": "code",
      "source": [
        "data.head()"
      ],
      "metadata": {
        "colab": {
          "base_uri": "https://localhost:8080/",
          "height": 528
        },
        "id": "e4cXKM4KMMNp",
        "outputId": "bad1725a-0830-42e2-c361-12eaf792ffd9"
      },
      "execution_count": null,
      "outputs": [
        {
          "output_type": "execute_result",
          "data": {
            "text/plain": [
              "  school_state teacher_prefix project_grade_category  \\\n",
              "0           ca            mrs          grades_prek_2   \n",
              "1           ut             ms             grades_3_5   \n",
              "2           ca            mrs          grades_prek_2   \n",
              "3           ga            mrs          grades_prek_2   \n",
              "4           wa            mrs             grades_3_5   \n",
              "\n",
              "   teacher_number_of_previously_posted_projects  project_is_approved  \\\n",
              "0                                            53                    1   \n",
              "1                                             4                    1   \n",
              "2                                            10                    1   \n",
              "3                                             2                    1   \n",
              "4                                             2                    1   \n",
              "\n",
              "    clean_categories                 clean_subcategories  \\\n",
              "0       math_science  appliedsciences health_lifescience   \n",
              "1       specialneeds                        specialneeds   \n",
              "2  literacy_language                            literacy   \n",
              "3    appliedlearning                    earlydevelopment   \n",
              "4  literacy_language                            literacy   \n",
              "\n",
              "                                               essay   price  \n",
              "0  i fortunate enough use fairy tale stem kits cl...  725.05  \n",
              "1  imagine 8 9 years old you third grade classroo...  213.03  \n",
              "2  having class 24 students comes diverse learner...  329.00  \n",
              "3  i recently read article giving students choice...  481.04  \n",
              "4  my students crave challenge eat obstacles brea...   17.74  "
            ],
            "text/html": [
              "\n",
              "  <div id=\"df-d305e6ff-536e-461e-bea1-948c90b14829\">\n",
              "    <div class=\"colab-df-container\">\n",
              "      <div>\n",
              "<style scoped>\n",
              "    .dataframe tbody tr th:only-of-type {\n",
              "        vertical-align: middle;\n",
              "    }\n",
              "\n",
              "    .dataframe tbody tr th {\n",
              "        vertical-align: top;\n",
              "    }\n",
              "\n",
              "    .dataframe thead th {\n",
              "        text-align: right;\n",
              "    }\n",
              "</style>\n",
              "<table border=\"1\" class=\"dataframe\">\n",
              "  <thead>\n",
              "    <tr style=\"text-align: right;\">\n",
              "      <th></th>\n",
              "      <th>school_state</th>\n",
              "      <th>teacher_prefix</th>\n",
              "      <th>project_grade_category</th>\n",
              "      <th>teacher_number_of_previously_posted_projects</th>\n",
              "      <th>project_is_approved</th>\n",
              "      <th>clean_categories</th>\n",
              "      <th>clean_subcategories</th>\n",
              "      <th>essay</th>\n",
              "      <th>price</th>\n",
              "    </tr>\n",
              "  </thead>\n",
              "  <tbody>\n",
              "    <tr>\n",
              "      <th>0</th>\n",
              "      <td>ca</td>\n",
              "      <td>mrs</td>\n",
              "      <td>grades_prek_2</td>\n",
              "      <td>53</td>\n",
              "      <td>1</td>\n",
              "      <td>math_science</td>\n",
              "      <td>appliedsciences health_lifescience</td>\n",
              "      <td>i fortunate enough use fairy tale stem kits cl...</td>\n",
              "      <td>725.05</td>\n",
              "    </tr>\n",
              "    <tr>\n",
              "      <th>1</th>\n",
              "      <td>ut</td>\n",
              "      <td>ms</td>\n",
              "      <td>grades_3_5</td>\n",
              "      <td>4</td>\n",
              "      <td>1</td>\n",
              "      <td>specialneeds</td>\n",
              "      <td>specialneeds</td>\n",
              "      <td>imagine 8 9 years old you third grade classroo...</td>\n",
              "      <td>213.03</td>\n",
              "    </tr>\n",
              "    <tr>\n",
              "      <th>2</th>\n",
              "      <td>ca</td>\n",
              "      <td>mrs</td>\n",
              "      <td>grades_prek_2</td>\n",
              "      <td>10</td>\n",
              "      <td>1</td>\n",
              "      <td>literacy_language</td>\n",
              "      <td>literacy</td>\n",
              "      <td>having class 24 students comes diverse learner...</td>\n",
              "      <td>329.00</td>\n",
              "    </tr>\n",
              "    <tr>\n",
              "      <th>3</th>\n",
              "      <td>ga</td>\n",
              "      <td>mrs</td>\n",
              "      <td>grades_prek_2</td>\n",
              "      <td>2</td>\n",
              "      <td>1</td>\n",
              "      <td>appliedlearning</td>\n",
              "      <td>earlydevelopment</td>\n",
              "      <td>i recently read article giving students choice...</td>\n",
              "      <td>481.04</td>\n",
              "    </tr>\n",
              "    <tr>\n",
              "      <th>4</th>\n",
              "      <td>wa</td>\n",
              "      <td>mrs</td>\n",
              "      <td>grades_3_5</td>\n",
              "      <td>2</td>\n",
              "      <td>1</td>\n",
              "      <td>literacy_language</td>\n",
              "      <td>literacy</td>\n",
              "      <td>my students crave challenge eat obstacles brea...</td>\n",
              "      <td>17.74</td>\n",
              "    </tr>\n",
              "  </tbody>\n",
              "</table>\n",
              "</div>\n",
              "      <button class=\"colab-df-convert\" onclick=\"convertToInteractive('df-d305e6ff-536e-461e-bea1-948c90b14829')\"\n",
              "              title=\"Convert this dataframe to an interactive table.\"\n",
              "              style=\"display:none;\">\n",
              "        \n",
              "  <svg xmlns=\"http://www.w3.org/2000/svg\" height=\"24px\"viewBox=\"0 0 24 24\"\n",
              "       width=\"24px\">\n",
              "    <path d=\"M0 0h24v24H0V0z\" fill=\"none\"/>\n",
              "    <path d=\"M18.56 5.44l.94 2.06.94-2.06 2.06-.94-2.06-.94-.94-2.06-.94 2.06-2.06.94zm-11 1L8.5 8.5l.94-2.06 2.06-.94-2.06-.94L8.5 2.5l-.94 2.06-2.06.94zm10 10l.94 2.06.94-2.06 2.06-.94-2.06-.94-.94-2.06-.94 2.06-2.06.94z\"/><path d=\"M17.41 7.96l-1.37-1.37c-.4-.4-.92-.59-1.43-.59-.52 0-1.04.2-1.43.59L10.3 9.45l-7.72 7.72c-.78.78-.78 2.05 0 2.83L4 21.41c.39.39.9.59 1.41.59.51 0 1.02-.2 1.41-.59l7.78-7.78 2.81-2.81c.8-.78.8-2.07 0-2.86zM5.41 20L4 18.59l7.72-7.72 1.47 1.35L5.41 20z\"/>\n",
              "  </svg>\n",
              "      </button>\n",
              "      \n",
              "  <style>\n",
              "    .colab-df-container {\n",
              "      display:flex;\n",
              "      flex-wrap:wrap;\n",
              "      gap: 12px;\n",
              "    }\n",
              "\n",
              "    .colab-df-convert {\n",
              "      background-color: #E8F0FE;\n",
              "      border: none;\n",
              "      border-radius: 50%;\n",
              "      cursor: pointer;\n",
              "      display: none;\n",
              "      fill: #1967D2;\n",
              "      height: 32px;\n",
              "      padding: 0 0 0 0;\n",
              "      width: 32px;\n",
              "    }\n",
              "\n",
              "    .colab-df-convert:hover {\n",
              "      background-color: #E2EBFA;\n",
              "      box-shadow: 0px 1px 2px rgba(60, 64, 67, 0.3), 0px 1px 3px 1px rgba(60, 64, 67, 0.15);\n",
              "      fill: #174EA6;\n",
              "    }\n",
              "\n",
              "    [theme=dark] .colab-df-convert {\n",
              "      background-color: #3B4455;\n",
              "      fill: #D2E3FC;\n",
              "    }\n",
              "\n",
              "    [theme=dark] .colab-df-convert:hover {\n",
              "      background-color: #434B5C;\n",
              "      box-shadow: 0px 1px 3px 1px rgba(0, 0, 0, 0.15);\n",
              "      filter: drop-shadow(0px 1px 2px rgba(0, 0, 0, 0.3));\n",
              "      fill: #FFFFFF;\n",
              "    }\n",
              "  </style>\n",
              "\n",
              "      <script>\n",
              "        const buttonEl =\n",
              "          document.querySelector('#df-d305e6ff-536e-461e-bea1-948c90b14829 button.colab-df-convert');\n",
              "        buttonEl.style.display =\n",
              "          google.colab.kernel.accessAllowed ? 'block' : 'none';\n",
              "\n",
              "        async function convertToInteractive(key) {\n",
              "          const element = document.querySelector('#df-d305e6ff-536e-461e-bea1-948c90b14829');\n",
              "          const dataTable =\n",
              "            await google.colab.kernel.invokeFunction('convertToInteractive',\n",
              "                                                     [key], {});\n",
              "          if (!dataTable) return;\n",
              "\n",
              "          const docLinkHtml = 'Like what you see? Visit the ' +\n",
              "            '<a target=\"_blank\" href=https://colab.research.google.com/notebooks/data_table.ipynb>data table notebook</a>'\n",
              "            + ' to learn more about interactive tables.';\n",
              "          element.innerHTML = '';\n",
              "          dataTable['output_type'] = 'display_data';\n",
              "          await google.colab.output.renderOutput(dataTable, element);\n",
              "          const docLink = document.createElement('div');\n",
              "          docLink.innerHTML = docLinkHtml;\n",
              "          element.appendChild(docLink);\n",
              "        }\n",
              "      </script>\n",
              "    </div>\n",
              "  </div>\n",
              "  "
            ]
          },
          "metadata": {},
          "execution_count": 5
        }
      ]
    },
    {
      "cell_type": "code",
      "source": [
        "data.groupby('project_is_approved').size() # imbalanced data (15%:85%)"
      ],
      "metadata": {
        "colab": {
          "base_uri": "https://localhost:8080/"
        },
        "id": "BqeDZN6ss6m6",
        "outputId": "927251a7-9e98-4fc6-e09a-4ae0dd0c919e"
      },
      "execution_count": null,
      "outputs": [
        {
          "output_type": "execute_result",
          "data": {
            "text/plain": [
              "project_is_approved\n",
              "0    12286\n",
              "1    67714\n",
              "dtype: int64"
            ]
          },
          "metadata": {},
          "execution_count": 6
        }
      ]
    },
    {
      "cell_type": "code",
      "source": [
        "y = data['project_is_approved'].values\n",
        "X = data.drop(['project_is_approved'], axis=1)\n",
        "X.head()"
      ],
      "metadata": {
        "colab": {
          "base_uri": "https://localhost:8080/",
          "height": 337
        },
        "id": "q6fOtCrqM-6W",
        "outputId": "0f3962f1-13a4-4e81-bfec-747ea806184d"
      },
      "execution_count": null,
      "outputs": [
        {
          "output_type": "execute_result",
          "data": {
            "text/plain": [
              "  school_state teacher_prefix project_grade_category  \\\n",
              "0           ca            mrs          grades_prek_2   \n",
              "1           ut             ms             grades_3_5   \n",
              "2           ca            mrs          grades_prek_2   \n",
              "3           ga            mrs          grades_prek_2   \n",
              "4           wa            mrs             grades_3_5   \n",
              "\n",
              "   teacher_number_of_previously_posted_projects   clean_categories  \\\n",
              "0                                            53       math_science   \n",
              "1                                             4       specialneeds   \n",
              "2                                            10  literacy_language   \n",
              "3                                             2    appliedlearning   \n",
              "4                                             2  literacy_language   \n",
              "\n",
              "                  clean_subcategories  \\\n",
              "0  appliedsciences health_lifescience   \n",
              "1                        specialneeds   \n",
              "2                            literacy   \n",
              "3                    earlydevelopment   \n",
              "4                            literacy   \n",
              "\n",
              "                                               essay   price  \n",
              "0  i fortunate enough use fairy tale stem kits cl...  725.05  \n",
              "1  imagine 8 9 years old you third grade classroo...  213.03  \n",
              "2  having class 24 students comes diverse learner...  329.00  \n",
              "3  i recently read article giving students choice...  481.04  \n",
              "4  my students crave challenge eat obstacles brea...   17.74  "
            ],
            "text/html": [
              "\n",
              "  <div id=\"df-11e327e1-9401-4f1c-8b1c-afa58fb052b4\">\n",
              "    <div class=\"colab-df-container\">\n",
              "      <div>\n",
              "<style scoped>\n",
              "    .dataframe tbody tr th:only-of-type {\n",
              "        vertical-align: middle;\n",
              "    }\n",
              "\n",
              "    .dataframe tbody tr th {\n",
              "        vertical-align: top;\n",
              "    }\n",
              "\n",
              "    .dataframe thead th {\n",
              "        text-align: right;\n",
              "    }\n",
              "</style>\n",
              "<table border=\"1\" class=\"dataframe\">\n",
              "  <thead>\n",
              "    <tr style=\"text-align: right;\">\n",
              "      <th></th>\n",
              "      <th>school_state</th>\n",
              "      <th>teacher_prefix</th>\n",
              "      <th>project_grade_category</th>\n",
              "      <th>teacher_number_of_previously_posted_projects</th>\n",
              "      <th>clean_categories</th>\n",
              "      <th>clean_subcategories</th>\n",
              "      <th>essay</th>\n",
              "      <th>price</th>\n",
              "    </tr>\n",
              "  </thead>\n",
              "  <tbody>\n",
              "    <tr>\n",
              "      <th>0</th>\n",
              "      <td>ca</td>\n",
              "      <td>mrs</td>\n",
              "      <td>grades_prek_2</td>\n",
              "      <td>53</td>\n",
              "      <td>math_science</td>\n",
              "      <td>appliedsciences health_lifescience</td>\n",
              "      <td>i fortunate enough use fairy tale stem kits cl...</td>\n",
              "      <td>725.05</td>\n",
              "    </tr>\n",
              "    <tr>\n",
              "      <th>1</th>\n",
              "      <td>ut</td>\n",
              "      <td>ms</td>\n",
              "      <td>grades_3_5</td>\n",
              "      <td>4</td>\n",
              "      <td>specialneeds</td>\n",
              "      <td>specialneeds</td>\n",
              "      <td>imagine 8 9 years old you third grade classroo...</td>\n",
              "      <td>213.03</td>\n",
              "    </tr>\n",
              "    <tr>\n",
              "      <th>2</th>\n",
              "      <td>ca</td>\n",
              "      <td>mrs</td>\n",
              "      <td>grades_prek_2</td>\n",
              "      <td>10</td>\n",
              "      <td>literacy_language</td>\n",
              "      <td>literacy</td>\n",
              "      <td>having class 24 students comes diverse learner...</td>\n",
              "      <td>329.00</td>\n",
              "    </tr>\n",
              "    <tr>\n",
              "      <th>3</th>\n",
              "      <td>ga</td>\n",
              "      <td>mrs</td>\n",
              "      <td>grades_prek_2</td>\n",
              "      <td>2</td>\n",
              "      <td>appliedlearning</td>\n",
              "      <td>earlydevelopment</td>\n",
              "      <td>i recently read article giving students choice...</td>\n",
              "      <td>481.04</td>\n",
              "    </tr>\n",
              "    <tr>\n",
              "      <th>4</th>\n",
              "      <td>wa</td>\n",
              "      <td>mrs</td>\n",
              "      <td>grades_3_5</td>\n",
              "      <td>2</td>\n",
              "      <td>literacy_language</td>\n",
              "      <td>literacy</td>\n",
              "      <td>my students crave challenge eat obstacles brea...</td>\n",
              "      <td>17.74</td>\n",
              "    </tr>\n",
              "  </tbody>\n",
              "</table>\n",
              "</div>\n",
              "      <button class=\"colab-df-convert\" onclick=\"convertToInteractive('df-11e327e1-9401-4f1c-8b1c-afa58fb052b4')\"\n",
              "              title=\"Convert this dataframe to an interactive table.\"\n",
              "              style=\"display:none;\">\n",
              "        \n",
              "  <svg xmlns=\"http://www.w3.org/2000/svg\" height=\"24px\"viewBox=\"0 0 24 24\"\n",
              "       width=\"24px\">\n",
              "    <path d=\"M0 0h24v24H0V0z\" fill=\"none\"/>\n",
              "    <path d=\"M18.56 5.44l.94 2.06.94-2.06 2.06-.94-2.06-.94-.94-2.06-.94 2.06-2.06.94zm-11 1L8.5 8.5l.94-2.06 2.06-.94-2.06-.94L8.5 2.5l-.94 2.06-2.06.94zm10 10l.94 2.06.94-2.06 2.06-.94-2.06-.94-.94-2.06-.94 2.06-2.06.94z\"/><path d=\"M17.41 7.96l-1.37-1.37c-.4-.4-.92-.59-1.43-.59-.52 0-1.04.2-1.43.59L10.3 9.45l-7.72 7.72c-.78.78-.78 2.05 0 2.83L4 21.41c.39.39.9.59 1.41.59.51 0 1.02-.2 1.41-.59l7.78-7.78 2.81-2.81c.8-.78.8-2.07 0-2.86zM5.41 20L4 18.59l7.72-7.72 1.47 1.35L5.41 20z\"/>\n",
              "  </svg>\n",
              "      </button>\n",
              "      \n",
              "  <style>\n",
              "    .colab-df-container {\n",
              "      display:flex;\n",
              "      flex-wrap:wrap;\n",
              "      gap: 12px;\n",
              "    }\n",
              "\n",
              "    .colab-df-convert {\n",
              "      background-color: #E8F0FE;\n",
              "      border: none;\n",
              "      border-radius: 50%;\n",
              "      cursor: pointer;\n",
              "      display: none;\n",
              "      fill: #1967D2;\n",
              "      height: 32px;\n",
              "      padding: 0 0 0 0;\n",
              "      width: 32px;\n",
              "    }\n",
              "\n",
              "    .colab-df-convert:hover {\n",
              "      background-color: #E2EBFA;\n",
              "      box-shadow: 0px 1px 2px rgba(60, 64, 67, 0.3), 0px 1px 3px 1px rgba(60, 64, 67, 0.15);\n",
              "      fill: #174EA6;\n",
              "    }\n",
              "\n",
              "    [theme=dark] .colab-df-convert {\n",
              "      background-color: #3B4455;\n",
              "      fill: #D2E3FC;\n",
              "    }\n",
              "\n",
              "    [theme=dark] .colab-df-convert:hover {\n",
              "      background-color: #434B5C;\n",
              "      box-shadow: 0px 1px 3px 1px rgba(0, 0, 0, 0.15);\n",
              "      filter: drop-shadow(0px 1px 2px rgba(0, 0, 0, 0.3));\n",
              "      fill: #FFFFFF;\n",
              "    }\n",
              "  </style>\n",
              "\n",
              "      <script>\n",
              "        const buttonEl =\n",
              "          document.querySelector('#df-11e327e1-9401-4f1c-8b1c-afa58fb052b4 button.colab-df-convert');\n",
              "        buttonEl.style.display =\n",
              "          google.colab.kernel.accessAllowed ? 'block' : 'none';\n",
              "\n",
              "        async function convertToInteractive(key) {\n",
              "          const element = document.querySelector('#df-11e327e1-9401-4f1c-8b1c-afa58fb052b4');\n",
              "          const dataTable =\n",
              "            await google.colab.kernel.invokeFunction('convertToInteractive',\n",
              "                                                     [key], {});\n",
              "          if (!dataTable) return;\n",
              "\n",
              "          const docLinkHtml = 'Like what you see? Visit the ' +\n",
              "            '<a target=\"_blank\" href=https://colab.research.google.com/notebooks/data_table.ipynb>data table notebook</a>'\n",
              "            + ' to learn more about interactive tables.';\n",
              "          element.innerHTML = '';\n",
              "          dataTable['output_type'] = 'display_data';\n",
              "          await google.colab.output.renderOutput(dataTable, element);\n",
              "          const docLink = document.createElement('div');\n",
              "          docLink.innerHTML = docLinkHtml;\n",
              "          element.appendChild(docLink);\n",
              "        }\n",
              "      </script>\n",
              "    </div>\n",
              "  </div>\n",
              "  "
            ]
          },
          "metadata": {},
          "execution_count": 7
        }
      ]
    },
    {
      "cell_type": "code",
      "source": [
        "y.shape"
      ],
      "metadata": {
        "colab": {
          "base_uri": "https://localhost:8080/"
        },
        "id": "iFGGrB42OS5P",
        "outputId": "3cebe501-114c-4bcf-dd32-2c477db1f12e"
      },
      "execution_count": null,
      "outputs": [
        {
          "output_type": "execute_result",
          "data": {
            "text/plain": [
              "(80000,)"
            ]
          },
          "metadata": {},
          "execution_count": 9
        }
      ]
    },
    {
      "cell_type": "code",
      "source": [
        "# train test split (no validation set as intend to do Randomized Search CV)\n",
        "X_train, X_test, y_train, y_test = train_test_split(X, y, test_size=0.33, stratify=y, random_state=42)\n",
        "# X_train, X_cv, y_train, y_cv = train_test_split(X_train, y_train, test_size=0.33, stratify=y_train)\n",
        "\n",
        "print(X_train.shape, y_train.shape)\n",
        "# print(X_cv.shape, y_cv.shape)\n",
        "print(X_test.shape, y_test.shape)"
      ],
      "metadata": {
        "id": "IDGDP2bD0ZRO",
        "colab": {
          "base_uri": "https://localhost:8080/"
        },
        "outputId": "35863ebb-c5a1-488b-87d4-92bf65b26f5d"
      },
      "execution_count": null,
      "outputs": [
        {
          "output_type": "stream",
          "name": "stdout",
          "text": [
            "(53600, 8) (53600,)\n",
            "(26400, 8) (26400,)\n"
          ]
        }
      ]
    },
    {
      "cell_type": "markdown",
      "source": [
        "## 2a. Perform BoW Vectorization, Categorical Encoding, Numerical Scaling"
      ],
      "metadata": {
        "id": "8BXjrFAAcLxa"
      }
    },
    {
      "cell_type": "code",
      "source": [
        "# perform BoW vectorization of text data (essay column)\n",
        "bow_vectorizer = CountVectorizer(min_df=10, ngram_range=(1,4), max_features=7000)\n",
        "bow_vectorizer.fit(X_train['essay'].values) # fit only on train data\n",
        "\n",
        "# use the fitted CountVectorizer to convert the text to vector\n",
        "X_train_essay_bow = bow_vectorizer.transform(X_train['essay'].values)\n",
        "# X_cv_essay_bow = bow_vectorizer.transform(X_cv['essay'].values)\n",
        "X_test_essay_bow = bow_vectorizer.transform(X_test['essay'].values)\n",
        "\n",
        "print(X_train_essay_bow.shape, y_train.shape)\n",
        "# print(X_cv_essay_bow.shape, y_cv.shape)\n",
        "print(X_test_essay_bow.shape, y_test.shape)"
      ],
      "metadata": {
        "colab": {
          "base_uri": "https://localhost:8080/"
        },
        "id": "GPSKKEOCPC51",
        "outputId": "9fb312ed-b324-4251-b962-06160e918268"
      },
      "execution_count": null,
      "outputs": [
        {
          "output_type": "stream",
          "name": "stdout",
          "text": [
            "(53600, 7000) (53600,)\n",
            "(26400, 7000) (26400,)\n"
          ]
        }
      ]
    },
    {
      "cell_type": "code",
      "source": [
        "# identify categorical features for encoding\n",
        "categorical_col = list(X.select_dtypes(include=['object','category']).drop(['essay'], axis=1).columns)\n",
        "categorical_col"
      ],
      "metadata": {
        "colab": {
          "base_uri": "https://localhost:8080/"
        },
        "id": "TjmWJr5Icgj3",
        "outputId": "0e0f495d-492f-4e61-d7b8-92251eab1808"
      },
      "execution_count": null,
      "outputs": [
        {
          "output_type": "execute_result",
          "data": {
            "text/plain": [
              "['school_state',\n",
              " 'teacher_prefix',\n",
              " 'project_grade_category',\n",
              " 'clean_categories',\n",
              " 'clean_subcategories']"
            ]
          },
          "metadata": {},
          "execution_count": 10
        }
      ]
    },
    {
      "cell_type": "code",
      "source": [
        "# use one hot encoder to encode categorical features\n",
        "# identify all nominal categories from train data and encode test data according to the categories identified in training. If there are new categories in the test data, encode as 0\n",
        "# reference: https://stackoverflow.com/questions/57946006/one-hot-encoding-train-with-values-not-present-on-test\n",
        "# reference: https://stackoverflow.com/questions/55525195/do-i-have-to-do-one-hot-encoding-separately-for-train-and-test-dataset\n",
        "enc = OneHotEncoder(handle_unknown = 'ignore') # 'ignore' tells the encoder to ignore new categories by encoding them with 0\n",
        "enc.fit(X_train[categorical_col].values)\n",
        "\n",
        "# use the fitted encoder to encode categorical features\n",
        "X_train_ohe = enc.transform(X_train[categorical_col].values)\n",
        "X_test_ohe = enc.transform(X_test[categorical_col].values)\n",
        "\n",
        "print(X_train_ohe.shape, y_train.shape)\n",
        "print(X_test_ohe.shape, y_test.shape)"
      ],
      "metadata": {
        "id": "42LdPjb4b_K8",
        "colab": {
          "base_uri": "https://localhost:8080/"
        },
        "outputId": "f5a93dba-5aef-4033-e7be-f08ceaf32da7"
      },
      "execution_count": null,
      "outputs": [
        {
          "output_type": "stream",
          "name": "stdout",
          "text": [
            "(53600, 487) (53600,)\n",
            "(26400, 487) (26400,)\n"
          ]
        }
      ]
    },
    {
      "cell_type": "code",
      "source": [
        "# identify numerical features for scaling\n",
        "numerical_col = list(X.select_dtypes(include=['int','float']).columns)\n",
        "numerical_col"
      ],
      "metadata": {
        "colab": {
          "base_uri": "https://localhost:8080/"
        },
        "id": "tkjtn4jAf9LB",
        "outputId": "f772728f-ff27-456f-eacf-bbf23cafbf75"
      },
      "execution_count": null,
      "outputs": [
        {
          "output_type": "execute_result",
          "data": {
            "text/plain": [
              "['teacher_number_of_previously_posted_projects', 'price']"
            ]
          },
          "metadata": {},
          "execution_count": 12
        }
      ]
    },
    {
      "cell_type": "code",
      "source": [
        "normalizer = Normalizer()\n",
        "normalizer.fit(X_train[numerical_col].values)\n",
        "\n",
        "X_train_norm = normalizer.transform(X_train[numerical_col].values)\n",
        "X_test_norm = normalizer.transform(X_test[numerical_col].values)\n",
        "\n",
        "print(X_train_norm.shape, y_train.shape)\n",
        "print(X_test_norm.shape, y_test.shape)"
      ],
      "metadata": {
        "colab": {
          "base_uri": "https://localhost:8080/"
        },
        "id": "NomgZ0QthQqz",
        "outputId": "1c089838-abc1-4d3e-eb7b-06ebe12b8258"
      },
      "execution_count": null,
      "outputs": [
        {
          "output_type": "stream",
          "name": "stdout",
          "text": [
            "(53600, 2) (53600,)\n",
            "(26400, 2) (26400,)\n"
          ]
        }
      ]
    },
    {
      "cell_type": "code",
      "source": [
        "print(X_train_norm.min())\n",
        "print(X_train_norm.max())\n",
        "print(X_test_norm.min())\n",
        "print(X_test_norm.max())"
      ],
      "metadata": {
        "colab": {
          "base_uri": "https://localhost:8080/"
        },
        "id": "0ysuodYIsgfq",
        "outputId": "d8bdca7f-a0f0-420f-db7d-de90f74b9f71"
      },
      "execution_count": null,
      "outputs": [
        {
          "output_type": "stream",
          "name": "stdout",
          "text": [
            "0.0\n",
            "1.0\n",
            "0.0\n",
            "1.0\n"
          ]
        }
      ]
    },
    {
      "cell_type": "code",
      "source": [
        "# merge matrices for BoW\n",
        "# reference: https://stackoverflow.com/a/19710648/4084039\n",
        "from scipy.sparse import hstack\n",
        "X_train_bow = hstack((X_train_essay_bow, X_train_ohe, X_train_norm)).tocsr()\n",
        "X_test_bow = hstack((X_test_essay_bow, X_test_ohe, X_test_norm)).tocsr()\n",
        "\n",
        "print(\"Final data matrix (Bow)\")\n",
        "print(X_train_bow.shape, y_train.shape) # why previously 6491/6489 cols? diff comes from one hot encoding of cat features, possibly due to random 80k rows when reading csv file\n",
        "print(X_test_bow.shape, y_test.shape)"
      ],
      "metadata": {
        "colab": {
          "base_uri": "https://localhost:8080/"
        },
        "id": "bCI2_z7AjhEy",
        "outputId": "4537703c-eea4-4f95-a1b7-91439eb556d9"
      },
      "execution_count": null,
      "outputs": [
        {
          "output_type": "stream",
          "name": "stdout",
          "text": [
            "Final data matrix (Bow)\n",
            "(53600, 7489) (53600,)\n",
            "(26400, 7489) (26400,)\n"
          ]
        }
      ]
    },
    {
      "cell_type": "markdown",
      "source": [
        "## 2b. Perform hyperparameter tuning (BoW)"
      ],
      "metadata": {
        "id": "OEwkPBuHhiLG"
      }
    },
    {
      "cell_type": "code",
      "source": [
        "# BoW hyperparameter tuning\n",
        "multi_nb = MultinomialNB()\n",
        "parameters = {'alpha':[0.00001,0.0005, 0.0001,0.005,0.001,0.05,0.01,0.1,0.5,1,5,10,50,100]}\n",
        "clf = RandomizedSearchCV(multi_nb, parameters, cv=3, scoring='roc_auc', return_train_score=True, random_state=42)\n",
        "clf.fit(X_train_bow, y_train)\n",
        "\n",
        "results = pd.DataFrame.from_dict(clf.cv_results_) #cv_results_ returns dict of metrics/details on Random Search CV\n",
        "results = results.sort_values(['param_alpha'])\n",
        "train_auc = results['mean_train_score']\n",
        "train_auc_std = results['std_train_score']\n",
        "cv_auc = results['mean_test_score'] \n",
        "cv_auc_std= results['std_test_score']\n",
        "alpha =  results['param_alpha']\n",
        "\n",
        "plt.plot(np.log(alpha.astype(float)), train_auc, label='Train AUC score') # reference: https://stackoverflow.com/questions/59297543/why-do-i-get-the-loop-of-ufunc-does-not-support-argument-0-of-type-int-error-f\n",
        "plt.plot(np.log(alpha.astype(float)), cv_auc, label='CV AUC score')\n",
        "\n",
        "plt.scatter(np.log(alpha.astype(float)), train_auc, label='Train points')\n",
        "plt.scatter(np.log(alpha.astype(float)), cv_auc, label='CV points')\n",
        "\n",
        "plt.legend()\n",
        "plt.xlabel(\"Hyperparameter: log(alpha)\")\n",
        "plt.ylabel(\"AUC\")\n",
        "plt.title(\"Hyper parameter VS AUC plot\")\n",
        "plt.grid()\n",
        "plt.show()"
      ],
      "metadata": {
        "colab": {
          "base_uri": "https://localhost:8080/",
          "height": 295
        },
        "id": "hAHY6bh8dpTr",
        "outputId": "b4f2d876-cae7-4d9c-a008-cac8c6f832f0"
      },
      "execution_count": null,
      "outputs": [
        {
          "output_type": "display_data",
          "data": {
            "text/plain": [
              "<Figure size 432x288 with 1 Axes>"
            ],
            "image/png": "[encoded data removed]"
          },
          "metadata": {
            "needs_background": "light"
          }
        }
      ]
    },
    {
      "cell_type": "code",
      "source": [
        "results"
      ],
      "metadata": {
        "colab": {
          "base_uri": "https://localhost:8080/",
          "height": 600
        },
        "id": "xz3b_T5JqMPd",
        "outputId": "c89877d1-772e-4a92-f181-e3e716f30f4d"
      },
      "execution_count": null,
      "outputs": [
        {
          "output_type": "execute_result",
          "data": {
            "text/plain": [
              "   mean_fit_time  std_fit_time  mean_score_time  std_score_time param_alpha  \\\n",
              "2       0.090715      0.025952         0.028722        0.006430     0.00001   \n",
              "6       0.067281      0.000448         0.025342        0.000837      0.0001   \n",
              "7       0.069077      0.001685         0.025572        0.000841      0.0005   \n",
              "9       0.068891      0.000571         0.023771        0.000126       0.001   \n",
              "4       0.120707      0.016000         0.039885        0.003614        0.05   \n",
              "5       0.098909      0.003849         0.040582        0.008820         0.5   \n",
              "0       0.068876      0.000183         0.025218        0.001580           1   \n",
              "1       0.068465      0.000779         0.024521        0.000135          10   \n",
              "3       0.102939      0.005782         0.042762        0.006029          50   \n",
              "8       0.067001      0.000833         0.023540        0.000168         100   \n",
              "\n",
              "              params  split0_test_score  split1_test_score  split2_test_score  \\\n",
              "2   {'alpha': 1e-05}           0.684022           0.684517           0.702049   \n",
              "6  {'alpha': 0.0001}           0.684619           0.685053           0.702724   \n",
              "7  {'alpha': 0.0005}           0.685074           0.685446           0.703185   \n",
              "9   {'alpha': 0.001}           0.685263           0.685620           0.703373   \n",
              "4    {'alpha': 0.05}           0.686200           0.686453           0.704204   \n",
              "5     {'alpha': 0.5}           0.686296           0.686361           0.704190   \n",
              "0       {'alpha': 1}           0.686066           0.685957           0.703927   \n",
              "1      {'alpha': 10}           0.680390           0.678242           0.697616   \n",
              "3      {'alpha': 50}           0.654534           0.648917           0.666738   \n",
              "8     {'alpha': 100}           0.618506           0.615575           0.630553   \n",
              "\n",
              "   mean_test_score  std_test_score  rank_test_score  split0_train_score  \\\n",
              "2         0.690196        0.008384                7            0.749742   \n",
              "6         0.690799        0.008434                6            0.749478   \n",
              "7         0.691235        0.008451                5            0.749236   \n",
              "9         0.691419        0.008454                4            0.749117   \n",
              "4         0.692285        0.008428                1            0.748178   \n",
              "5         0.692283        0.008420                2            0.746949   \n",
              "0         0.691983        0.008446                3            0.746102   \n",
              "1         0.685416        0.008671                8            0.734648   \n",
              "3         0.656729        0.007439                9            0.691763   \n",
              "8         0.621545        0.006481               10            0.644679   \n",
              "\n",
              "   split1_train_score  split2_train_score  mean_train_score  std_train_score  \n",
              "2            0.752633            0.750062          0.750812         0.001294  \n",
              "6            0.752357            0.749789          0.750542         0.001290  \n",
              "7            0.752098            0.749534          0.750289         0.001285  \n",
              "9            0.751967            0.749404          0.750163         0.001281  \n",
              "4            0.750915            0.748348          0.749147         0.001252  \n",
              "5            0.749553            0.746948          0.747817         0.001228  \n",
              "0            0.748669            0.746028          0.746933         0.001228  \n",
              "1            0.737016            0.733752          0.735139         0.001377  \n",
              "3            0.694865            0.689533          0.692053         0.002187  \n",
              "8            0.646814            0.640776          0.644090         0.002500  "
            ],
            "text/html": [
              "\n",
              "  <div id=\"df-253fd031-c24d-490c-bf9a-015fcce0a979\">\n",
              "    <div class=\"colab-df-container\">\n",
              "      <div>\n",
              "<style scoped>\n",
              "    .dataframe tbody tr th:only-of-type {\n",
              "        vertical-align: middle;\n",
              "    }\n",
              "\n",
              "    .dataframe tbody tr th {\n",
              "        vertical-align: top;\n",
              "    }\n",
              "\n",
              "    .dataframe thead th {\n",
              "        text-align: right;\n",
              "    }\n",
              "</style>\n",
              "<table border=\"1\" class=\"dataframe\">\n",
              "  <thead>\n",
              "    <tr style=\"text-align: right;\">\n",
              "      <th></th>\n",
              "      <th>mean_fit_time</th>\n",
              "      <th>std_fit_time</th>\n",
              "      <th>mean_score_time</th>\n",
              "      <th>std_score_time</th>\n",
              "      <th>param_alpha</th>\n",
              "      <th>params</th>\n",
              "      <th>split0_test_score</th>\n",
              "      <th>split1_test_score</th>\n",
              "      <th>split2_test_score</th>\n",
              "      <th>mean_test_score</th>\n",
              "      <th>std_test_score</th>\n",
              "      <th>rank_test_score</th>\n",
              "      <th>split0_train_score</th>\n",
              "      <th>split1_train_score</th>\n",
              "      <th>split2_train_score</th>\n",
              "      <th>mean_train_score</th>\n",
              "      <th>std_train_score</th>\n",
              "    </tr>\n",
              "  </thead>\n",
              "  <tbody>\n",
              "    <tr>\n",
              "      <th>2</th>\n",
              "      <td>0.090715</td>\n",
              "      <td>0.025952</td>\n",
              "      <td>0.028722</td>\n",
              "      <td>0.006430</td>\n",
              "      <td>0.00001</td>\n",
              "      <td>{'alpha': 1e-05}</td>\n",
              "      <td>0.684022</td>\n",
              "      <td>0.684517</td>\n",
              "      <td>0.702049</td>\n",
              "      <td>0.690196</td>\n",
              "      <td>0.008384</td>\n",
              "      <td>7</td>\n",
              "      <td>0.749742</td>\n",
              "      <td>0.752633</td>\n",
              "      <td>0.750062</td>\n",
              "      <td>0.750812</td>\n",
              "      <td>0.001294</td>\n",
              "    </tr>\n",
              "    <tr>\n",
              "      <th>6</th>\n",
              "      <td>0.067281</td>\n",
              "      <td>0.000448</td>\n",
              "      <td>0.025342</td>\n",
              "      <td>0.000837</td>\n",
              "      <td>0.0001</td>\n",
              "      <td>{'alpha': 0.0001}</td>\n",
              "      <td>0.684619</td>\n",
              "      <td>0.685053</td>\n",
              "      <td>0.702724</td>\n",
              "      <td>0.690799</td>\n",
              "      <td>0.008434</td>\n",
              "      <td>6</td>\n",
              "      <td>0.749478</td>\n",
              "      <td>0.752357</td>\n",
              "      <td>0.749789</td>\n",
              "      <td>0.750542</td>\n",
              "      <td>0.001290</td>\n",
              "    </tr>\n",
              "    <tr>\n",
              "      <th>7</th>\n",
              "      <td>0.069077</td>\n",
              "      <td>0.001685</td>\n",
              "      <td>0.025572</td>\n",
              "      <td>0.000841</td>\n",
              "      <td>0.0005</td>\n",
              "      <td>{'alpha': 0.0005}</td>\n",
              "      <td>0.685074</td>\n",
              "      <td>0.685446</td>\n",
              "      <td>0.703185</td>\n",
              "      <td>0.691235</td>\n",
              "      <td>0.008451</td>\n",
              "      <td>5</td>\n",
              "      <td>0.749236</td>\n",
              "      <td>0.752098</td>\n",
              "      <td>0.749534</td>\n",
              "      <td>0.750289</td>\n",
              "      <td>0.001285</td>\n",
              "    </tr>\n",
              "    <tr>\n",
              "      <th>9</th>\n",
              "      <td>0.068891</td>\n",
              "      <td>0.000571</td>\n",
              "      <td>0.023771</td>\n",
              "      <td>0.000126</td>\n",
              "      <td>0.001</td>\n",
              "      <td>{'alpha': 0.001}</td>\n",
              "      <td>0.685263</td>\n",
              "      <td>0.685620</td>\n",
              "      <td>0.703373</td>\n",
              "      <td>0.691419</td>\n",
              "      <td>0.008454</td>\n",
              "      <td>4</td>\n",
              "      <td>0.749117</td>\n",
              "      <td>0.751967</td>\n",
              "      <td>0.749404</td>\n",
              "      <td>0.750163</td>\n",
              "      <td>0.001281</td>\n",
              "    </tr>\n",
              "    <tr>\n",
              "      <th>4</th>\n",
              "      <td>0.120707</td>\n",
              "      <td>0.016000</td>\n",
              "      <td>0.039885</td>\n",
              "      <td>0.003614</td>\n",
              "      <td>0.05</td>\n",
              "      <td>{'alpha': 0.05}</td>\n",
              "      <td>0.686200</td>\n",
              "      <td>0.686453</td>\n",
              "      <td>0.704204</td>\n",
              "      <td>0.692285</td>\n",
              "      <td>0.008428</td>\n",
              "      <td>1</td>\n",
              "      <td>0.748178</td>\n",
              "      <td>0.750915</td>\n",
              "      <td>0.748348</td>\n",
              "      <td>0.749147</td>\n",
              "      <td>0.001252</td>\n",
              "    </tr>\n",
              "    <tr>\n",
              "      <th>5</th>\n",
              "      <td>0.098909</td>\n",
              "      <td>0.003849</td>\n",
              "      <td>0.040582</td>\n",
              "      <td>0.008820</td>\n",
              "      <td>0.5</td>\n",
              "      <td>{'alpha': 0.5}</td>\n",
              "      <td>0.686296</td>\n",
              "      <td>0.686361</td>\n",
              "      <td>0.704190</td>\n",
              "      <td>0.692283</td>\n",
              "      <td>0.008420</td>\n",
              "      <td>2</td>\n",
              "      <td>0.746949</td>\n",
              "      <td>0.749553</td>\n",
              "      <td>0.746948</td>\n",
              "      <td>0.747817</td>\n",
              "      <td>0.001228</td>\n",
              "    </tr>\n",
              "    <tr>\n",
              "      <th>0</th>\n",
              "      <td>0.068876</td>\n",
              "      <td>0.000183</td>\n",
              "      <td>0.025218</td>\n",
              "      <td>0.001580</td>\n",
              "      <td>1</td>\n",
              "      <td>{'alpha': 1}</td>\n",
              "      <td>0.686066</td>\n",
              "      <td>0.685957</td>\n",
              "      <td>0.703927</td>\n",
              "      <td>0.691983</td>\n",
              "      <td>0.008446</td>\n",
              "      <td>3</td>\n",
              "      <td>0.746102</td>\n",
              "      <td>0.748669</td>\n",
              "      <td>0.746028</td>\n",
              "      <td>0.746933</td>\n",
              "      <td>0.001228</td>\n",
              "    </tr>\n",
              "    <tr>\n",
              "      <th>1</th>\n",
              "      <td>0.068465</td>\n",
              "      <td>0.000779</td>\n",
              "      <td>0.024521</td>\n",
              "      <td>0.000135</td>\n",
              "      <td>10</td>\n",
              "      <td>{'alpha': 10}</td>\n",
              "      <td>0.680390</td>\n",
              "      <td>0.678242</td>\n",
              "      <td>0.697616</td>\n",
              "      <td>0.685416</td>\n",
              "      <td>0.008671</td>\n",
              "      <td>8</td>\n",
              "      <td>0.734648</td>\n",
              "      <td>0.737016</td>\n",
              "      <td>0.733752</td>\n",
              "      <td>0.735139</td>\n",
              "      <td>0.001377</td>\n",
              "    </tr>\n",
              "    <tr>\n",
              "      <th>3</th>\n",
              "      <td>0.102939</td>\n",
              "      <td>0.005782</td>\n",
              "      <td>0.042762</td>\n",
              "      <td>0.006029</td>\n",
              "      <td>50</td>\n",
              "      <td>{'alpha': 50}</td>\n",
              "      <td>0.654534</td>\n",
              "      <td>0.648917</td>\n",
              "      <td>0.666738</td>\n",
              "      <td>0.656729</td>\n",
              "      <td>0.007439</td>\n",
              "      <td>9</td>\n",
              "      <td>0.691763</td>\n",
              "      <td>0.694865</td>\n",
              "      <td>0.689533</td>\n",
              "      <td>0.692053</td>\n",
              "      <td>0.002187</td>\n",
              "    </tr>\n",
              "    <tr>\n",
              "      <th>8</th>\n",
              "      <td>0.067001</td>\n",
              "      <td>0.000833</td>\n",
              "      <td>0.023540</td>\n",
              "      <td>0.000168</td>\n",
              "      <td>100</td>\n",
              "      <td>{'alpha': 100}</td>\n",
              "      <td>0.618506</td>\n",
              "      <td>0.615575</td>\n",
              "      <td>0.630553</td>\n",
              "      <td>0.621545</td>\n",
              "      <td>0.006481</td>\n",
              "      <td>10</td>\n",
              "      <td>0.644679</td>\n",
              "      <td>0.646814</td>\n",
              "      <td>0.640776</td>\n",
              "      <td>0.644090</td>\n",
              "      <td>0.002500</td>\n",
              "    </tr>\n",
              "  </tbody>\n",
              "</table>\n",
              "</div>\n",
              "      <button class=\"colab-df-convert\" onclick=\"convertToInteractive('df-253fd031-c24d-490c-bf9a-015fcce0a979')\"\n",
              "              title=\"Convert this dataframe to an interactive table.\"\n",
              "              style=\"display:none;\">\n",
              "        \n",
              "  <svg xmlns=\"http://www.w3.org/2000/svg\" height=\"24px\"viewBox=\"0 0 24 24\"\n",
              "       width=\"24px\">\n",
              "    <path d=\"M0 0h24v24H0V0z\" fill=\"none\"/>\n",
              "    <path d=\"M18.56 5.44l.94 2.06.94-2.06 2.06-.94-2.06-.94-.94-2.06-.94 2.06-2.06.94zm-11 1L8.5 8.5l.94-2.06 2.06-.94-2.06-.94L8.5 2.5l-.94 2.06-2.06.94zm10 10l.94 2.06.94-2.06 2.06-.94-2.06-.94-.94-2.06-.94 2.06-2.06.94z\"/><path d=\"M17.41 7.96l-1.37-1.37c-.4-.4-.92-.59-1.43-.59-.52 0-1.04.2-1.43.59L10.3 9.45l-7.72 7.72c-.78.78-.78 2.05 0 2.83L4 21.41c.39.39.9.59 1.41.59.51 0 1.02-.2 1.41-.59l7.78-7.78 2.81-2.81c.8-.78.8-2.07 0-2.86zM5.41 20L4 18.59l7.72-7.72 1.47 1.35L5.41 20z\"/>\n",
              "  </svg>\n",
              "      </button>\n",
              "      \n",
              "  <style>\n",
              "    .colab-df-container {\n",
              "      display:flex;\n",
              "      flex-wrap:wrap;\n",
              "      gap: 12px;\n",
              "    }\n",
              "\n",
              "    .colab-df-convert {\n",
              "      background-color: #E8F0FE;\n",
              "      border: none;\n",
              "      border-radius: 50%;\n",
              "      cursor: pointer;\n",
              "      display: none;\n",
              "      fill: #1967D2;\n",
              "      height: 32px;\n",
              "      padding: 0 0 0 0;\n",
              "      width: 32px;\n",
              "    }\n",
              "\n",
              "    .colab-df-convert:hover {\n",
              "      background-color: #E2EBFA;\n",
              "      box-shadow: 0px 1px 2px rgba(60, 64, 67, 0.3), 0px 1px 3px 1px rgba(60, 64, 67, 0.15);\n",
              "      fill: #174EA6;\n",
              "    }\n",
              "\n",
              "    [theme=dark] .colab-df-convert {\n",
              "      background-color: #3B4455;\n",
              "      fill: #D2E3FC;\n",
              "    }\n",
              "\n",
              "    [theme=dark] .colab-df-convert:hover {\n",
              "      background-color: #434B5C;\n",
              "      box-shadow: 0px 1px 3px 1px rgba(0, 0, 0, 0.15);\n",
              "      filter: drop-shadow(0px 1px 2px rgba(0, 0, 0, 0.3));\n",
              "      fill: #FFFFFF;\n",
              "    }\n",
              "  </style>\n",
              "\n",
              "      <script>\n",
              "        const buttonEl =\n",
              "          document.querySelector('#df-253fd031-c24d-490c-bf9a-015fcce0a979 button.colab-df-convert');\n",
              "        buttonEl.style.display =\n",
              "          google.colab.kernel.accessAllowed ? 'block' : 'none';\n",
              "\n",
              "        async function convertToInteractive(key) {\n",
              "          const element = document.querySelector('#df-253fd031-c24d-490c-bf9a-015fcce0a979');\n",
              "          const dataTable =\n",
              "            await google.colab.kernel.invokeFunction('convertToInteractive',\n",
              "                                                     [key], {});\n",
              "          if (!dataTable) return;\n",
              "\n",
              "          const docLinkHtml = 'Like what you see? Visit the ' +\n",
              "            '<a target=\"_blank\" href=https://colab.research.google.com/notebooks/data_table.ipynb>data table notebook</a>'\n",
              "            + ' to learn more about interactive tables.';\n",
              "          element.innerHTML = '';\n",
              "          dataTable['output_type'] = 'display_data';\n",
              "          await google.colab.output.renderOutput(dataTable, element);\n",
              "          const docLink = document.createElement('div');\n",
              "          docLink.innerHTML = docLinkHtml;\n",
              "          element.appendChild(docLink);\n",
              "        }\n",
              "      </script>\n",
              "    </div>\n",
              "  </div>\n",
              "  "
            ]
          },
          "metadata": {},
          "execution_count": 20
        }
      ]
    },
    {
      "cell_type": "markdown",
      "source": [
        "## 2c. Compute Performance Metrics (BoW)"
      ],
      "metadata": {
        "id": "wyZJ9OomhvDl"
      }
    },
    {
      "cell_type": "code",
      "source": [
        "# compute and plot ROC\n",
        "best_alpha_bow = 100\n",
        "clf = MultinomialNB(alpha=best_alpha_bow)\n",
        "clf.fit(X_train_bow, y_train)\n",
        "\n",
        "y_train_pred = clf.predict_proba(X_train_bow)[:,1] # include proba for positive class only\n",
        "y_test_pred = clf.predict_proba(X_test_bow)[:,1]\n",
        "\n",
        "train_fpr, train_tpr, tr_thresholds = roc_curve(y_train, y_train_pred) \n",
        "test_fpr, test_tpr, te_thresholds = roc_curve(y_test, y_test_pred)\n",
        "\n",
        "plt.plot(train_fpr, train_tpr, label=\"train AUC =\"+str(auc(train_fpr, train_tpr)))\n",
        "plt.plot(test_fpr, test_tpr, label=\"test AUC =\"+str(auc(test_fpr, test_tpr)))\n",
        "plt.legend()\n",
        "plt.xlabel(\"FPR\")\n",
        "plt.ylabel(\"TPR\")\n",
        "plt.title(\"ROC curve\")\n",
        "plt.grid()\n",
        "plt.show()"
      ],
      "metadata": {
        "colab": {
          "base_uri": "https://localhost:8080/",
          "height": 295
        },
        "id": "e4tlKsLzuk9B",
        "outputId": "c6d58b05-7232-48ee-9aa1-34e0d6a38299"
      },
      "execution_count": null,
      "outputs": [
        {
          "output_type": "display_data",
          "data": {
            "text/plain": [
              "<Figure size 432x288 with 1 Axes>"
            ],
            "image/png": "[encoded data removed]"
          },
          "metadata": {
            "needs_background": "light"
          }
        }
      ]
    },
    {
      "cell_type": "code",
      "source": [
        "auc_bow = auc(test_fpr, test_tpr) # AUC score\n",
        "auc_bow"
      ],
      "metadata": {
        "colab": {
          "base_uri": "https://localhost:8080/"
        },
        "id": "XRwaQtbqnKMF",
        "outputId": "26f78866-3907-49fc-cbcd-45b6d6f902b8"
      },
      "execution_count": null,
      "outputs": [
        {
          "output_type": "execute_result",
          "data": {
            "text/plain": [
              "0.6502198228241659"
            ]
          },
          "metadata": {},
          "execution_count": 44
        }
      ]
    },
    {
      "cell_type": "code",
      "source": [
        "np.exp(clf.class_log_prior_) # computed class prior"
      ],
      "metadata": {
        "colab": {
          "base_uri": "https://localhost:8080/"
        },
        "id": "MRh5Cglei5uP",
        "outputId": "b421e759-4326-434c-8e9b-1310763a3464"
      },
      "execution_count": null,
      "outputs": [
        {
          "output_type": "execute_result",
          "data": {
            "text/plain": [
              "array([0.15358209, 0.84641791])"
            ]
          },
          "metadata": {},
          "execution_count": 38
        }
      ]
    },
    {
      "cell_type": "code",
      "source": [
        "# define function to obtain best threshold for max(tpr*(1-fpr)) + predict class using best threshold\n",
        "# reference: https://colab.research.google.com/drive/1QE7c9oVfSwQcoLv8pxIqa6b9meiuqNgX\n",
        "\n",
        "def find_best_threshold(threshold, fpr, tpr):\n",
        "    t = threshold[np.argmax(tpr*(1-fpr))]\n",
        "    # (tpr*(1-fpr)) will be max if fpr is very low and tpr is very high\n",
        "    print(\"The maximum value of tpr*(1-fpr) is\", max(tpr*(1-fpr)), \"with threshold of\", np.round(t,3))\n",
        "    return t\n",
        "\n",
        "def predict_with_best_t(proba, threshold):\n",
        "    predictions = []\n",
        "    for i in proba:\n",
        "        if i>=threshold:\n",
        "            predictions.append(1)\n",
        "        else:\n",
        "            predictions.append(0)\n",
        "    return predictions"
      ],
      "metadata": {
        "id": "tyO1FnuIyJzP"
      },
      "execution_count": null,
      "outputs": []
    },
    {
      "cell_type": "code",
      "source": [
        "best_t = find_best_threshold(tr_thresholds, train_fpr, train_tpr)\n",
        "cm_train_bow = confusion_matrix(y_train, predict_with_best_t(y_train_pred, best_t))\n",
        "cm_test_bow = confusion_matrix(y_test, predict_with_best_t(y_test_pred, best_t))\n",
        "\n",
        "print(\"\\nTrain confusion matrix:\\n\")\n",
        "print(cm_train_bow)\n",
        "print(\"\\nTest confusion matrix:\\n\")\n",
        "print(cm_test_bow)"
      ],
      "metadata": {
        "colab": {
          "base_uri": "https://localhost:8080/"
        },
        "id": "6KrDEtERzLyM",
        "outputId": "da27af39-a9db-4bc1-ac24-2f3fcb4b44b7"
      },
      "execution_count": null,
      "outputs": [
        {
          "output_type": "stream",
          "name": "stdout",
          "text": [
            "The maximum value of tpr*(1-fpr) is 0.39400783425948155 with threshold of 1.0\n",
            "\n",
            "Train confusion matrix:\n",
            "\n",
            "[[ 5060  3172]\n",
            " [16287 29081]]\n",
            "\n",
            "Test confusion matrix:\n",
            "\n",
            "[[ 2352  1702]\n",
            " [ 8031 14315]]\n"
          ]
        }
      ]
    },
    {
      "cell_type": "code",
      "source": [
        "tn, fp, fn, tp = cm_test_bow.ravel()\n",
        "(tn, fp, fn, tp)"
      ],
      "metadata": {
        "colab": {
          "base_uri": "https://localhost:8080/"
        },
        "id": "J0IsO35V2exK",
        "outputId": "8bb4f21f-ee53-47c0-8c8d-8f00bbeb2cc1"
      },
      "execution_count": null,
      "outputs": [
        {
          "output_type": "execute_result",
          "data": {
            "text/plain": [
              "(2352, 1702, 8031, 14315)"
            ]
          },
          "metadata": {},
          "execution_count": 20
        }
      ]
    },
    {
      "cell_type": "code",
      "source": [
        "# reference: https://jakevdp.github.io/PythonDataScienceHandbook/05.05-naive-bayes.html\n",
        "sns.heatmap(cm_test_bow, cmap='Blues', annot=True, fmt='g', cbar=False)\n",
        "plt.xlabel('predicted label')\n",
        "plt.ylabel('true label');"
      ],
      "metadata": {
        "colab": {
          "base_uri": "https://localhost:8080/",
          "height": 279
        },
        "id": "7N-YdC9msbke",
        "outputId": "89ad1667-c5bd-4c1e-db48-a175dade0734"
      },
      "execution_count": null,
      "outputs": [
        {
          "output_type": "display_data",
          "data": {
            "text/plain": [
              "<Figure size 432x288 with 1 Axes>"
            ],
            "image/png": "[encoded data removed]"
          },
          "metadata": {
            "needs_background": "light"
          }
        }
      ]
    },
    {
      "cell_type": "code",
      "source": [
        "print('The TPR (sensitivity/recall) is {:.2f}, while the FNR is {:.2f}'.format(tp/(fn+tp), fn/(fn+tp)))\n",
        "print('The TNR (specificity) is {:.2f}, while the FPR is {:.2f}'.format(tn/(tn+fp), fp/(tn+fp)))\n",
        "print('Precision is {:.2f}'.format(tp/(tp+fp)))"
      ],
      "metadata": {
        "colab": {
          "base_uri": "https://localhost:8080/"
        },
        "id": "RR6PeR3WlyLx",
        "outputId": "c4489b7f-4cb2-4b31-de6b-e95514cee9a1"
      },
      "execution_count": null,
      "outputs": [
        {
          "output_type": "stream",
          "name": "stdout",
          "text": [
            "The TPR (sensitivity/recall) is 0.64, while the FNR is 0.36\n",
            "The TNR (specificity) is 0.58, while the FPR is 0.42\n",
            "Precision is 0.89\n"
          ]
        }
      ]
    },
    {
      "cell_type": "markdown",
      "source": [
        ">While the AUC score of 0.65 is greater than 0.5, it is not very high. As the dataset is imbalanced in favour of the positive class, identifying true negatives is relatively important, lending more importance to specificity (which is not very high at 0.58). Thus, the classifier can possibly be tuned further (or subjected to better feature engineering) for better performance."
      ],
      "metadata": {
        "id": "L-zNhONwjeuD"
      }
    },
    {
      "cell_type": "code",
      "source": [
        "# prepare list of features names\n",
        "features_bow = []\n",
        "features_bow.extend(bow_vectorizer.get_feature_names_out())\n",
        "features_bow.extend(enc.get_feature_names_out())\n",
        "features_bow.append('teacher_number_of_previously_posted_projects')\n",
        "features_bow.append('price')\n",
        "\n",
        "len(features_bow)\n",
        "# X_train_bow = hstack((X_train_essay_bow, X_train_ohe, X_train_norm)).tocsr()"
      ],
      "metadata": {
        "colab": {
          "base_uri": "https://localhost:8080/"
        },
        "id": "rLKoDJ9rlP6J",
        "outputId": "fc5169f2-cd6c-4d0c-f2cf-0e6973e8769b"
      },
      "execution_count": null,
      "outputs": [
        {
          "output_type": "execute_result",
          "data": {
            "text/plain": [
              "7489"
            ]
          },
          "metadata": {},
          "execution_count": 33
        }
      ]
    },
    {
      "cell_type": "code",
      "source": [
        "# obtain top 20 features for positive class based on prob scores\n",
        "# feature_log_prob_ returns log prob for each class\n",
        "# reference: https://stackoverflow.com/questions/56338847/how-to-give-column-names-after-one-hot-encoding-with-sklearn\n",
        "# reference: https://stackoverflow.com/questions/52374104/typeerror-unsupported-format-string-passed-to-list-format\n",
        "# reference: https://stackoverflow.com/questions/16486252/is-it-possible-to-use-argsort-in-descending-order\n",
        "# reference: https://stackoverflow.com/questions/54988116/why-am-i-getting-almost-same-top-10-features-using-multinomial-naive-bayes-class\n",
        "sorted_idx = np.argsort(clf.feature_log_prob_[1])[::-1][:20] # [::-1] reverses the array returned by argsort() to desc order and [:n] gives that top n elements\n",
        "\n",
        "for p,q in zip(np.array(features_bow)[sorted_idx], clf.feature_log_prob_[1][sorted_idx]): # need to wrap features_bow (which is a list) as an array\n",
        "  print('{:45}:{}'.format(p,q))"
      ],
      "metadata": {
        "id": "baSMxO_6z9cv",
        "colab": {
          "base_uri": "https://localhost:8080/"
        },
        "outputId": "54ccb2b4-3923-4e03-e06e-cd223c6733ce"
      },
      "execution_count": null,
      "outputs": [
        {
          "output_type": "stream",
          "name": "stdout",
          "text": [
            "love                                         :-5.667311510360365\n",
            "use                                          :-5.5548139893873945\n",
            "need                                         :-5.506206190496119\n",
            "work                                         :-5.491952201409097\n",
            "reading                                      :-5.47873468868146\n",
            "we                                           :-5.438223008463405\n",
            "nannan                                       :-5.395876410572454\n",
            "many                                         :-5.365700270820415\n",
            "price                                        :-5.360124289726725\n",
            "help                                         :-5.214111108448558\n",
            "learn                                        :-5.188944573554069\n",
            "my students                                  :-5.1788084907746\n",
            "they                                         :-5.155054404766494\n",
            "not                                          :-5.140905415619127\n",
            "the                                          :-5.095707870828489\n",
            "classroom                                    :-4.87062365085958\n",
            "learning                                     :-4.841360168180332\n",
            "my                                           :-4.804084524220716\n",
            "school                                       :-4.49650907263549\n",
            "students                                     :-3.3443717779118547\n"
          ]
        }
      ]
    },
    {
      "cell_type": "code",
      "source": [
        "# use np.exp() to obtain normal probability\n",
        "# reference: https://stackoverflow.com/questions/48465737/how-to-convert-log-probability-into-simple-probability-between-0-and-1-values-us\n",
        "sorted_idx = np.argsort(np.exp(clf.feature_log_prob_[1]))[::-1][:20]\n",
        "\n",
        "for p,q in zip(np.array(features_bow)[sorted_idx], np.exp(clf.feature_log_prob_[1])[sorted_idx]):\n",
        "  print('{:45}:{}'.format(p,q))"
      ],
      "metadata": {
        "colab": {
          "base_uri": "https://localhost:8080/"
        },
        "id": "50TIbt5ji_-P",
        "outputId": "e475d909-216a-4d27-f7b5-52c361e88560"
      },
      "execution_count": null,
      "outputs": [
        {
          "output_type": "stream",
          "name": "stdout",
          "text": [
            "students                                     :0.03528237336301718\n",
            "school                                       :0.01114784500738944\n",
            "my                                           :0.008196201004322298\n",
            "learning                                     :0.007896306439209464\n",
            "classroom                                    :0.007668581278968522\n",
            "the                                          :0.006122970828002388\n",
            "not                                          :0.0058523884698536465\n",
            "they                                         :0.005770166142015723\n",
            "my students                                  :0.005634716232578742\n",
            "learn                                        :0.005577890762760256\n",
            "help                                         :0.00543926624607083\n",
            "price                                        :0.00470032186955595\n",
            "many                                         :0.004674185898235341\n",
            "nannan                                       :0.004535243920820679\n",
            "we                                           :0.004347201351235108\n",
            "reading                                      :0.004174608536944701\n",
            "work                                         :0.004119793651719415\n",
            "need                                         :0.004061486698516462\n",
            "use                                          :0.0038687880382939958\n",
            "love                                         :0.0034571472978956455\n"
          ]
        }
      ]
    },
    {
      "cell_type": "code",
      "source": [
        "# obtain top 20 features for negative class based on prob scores\n",
        "sorted_idx = np.argsort(clf.feature_log_prob_[0])[::-1][:20]\n",
        "\n",
        "for p,q in zip(np.array(features_bow)[sorted_idx], clf.feature_log_prob_[0][sorted_idx]):\n",
        "  print('{:45}:{}'.format(p,q))"
      ],
      "metadata": {
        "colab": {
          "base_uri": "https://localhost:8080/"
        },
        "id": "RwzmuMFupvfM",
        "outputId": "35cc27c7-fbf2-46e6-b90b-19be11e2d829"
      },
      "execution_count": null,
      "outputs": [
        {
          "output_type": "stream",
          "name": "stdout",
          "text": [
            "students                                     :-3.6775571770632176\n",
            "school                                       :-4.775482670659821\n",
            "learning                                     :-5.073516527655084\n",
            "my                                           :-5.1436535203911316\n",
            "classroom                                    :-5.2191655622270225\n",
            "not                                          :-5.424263051099025\n",
            "learn                                        :-5.431259277354647\n",
            "they                                         :-5.475465944718639\n",
            "the                                          :-5.4872333034383765\n",
            "help                                         :-5.487448542354404\n",
            "my students                                  :-5.519825864611082\n",
            "price                                        :-5.603634737624848\n",
            "nannan                                       :-5.653690831486767\n",
            "many                                         :-5.673328246198455\n",
            "we                                           :-5.769585082625182\n",
            "need                                         :-5.786423646988013\n",
            "work                                         :-5.837487802554625\n",
            "come                                         :-5.978839521778726\n",
            "reading                                      :-5.987852572101003\n",
            "able                                         :-6.037344207168179\n"
          ]
        }
      ]
    },
    {
      "cell_type": "markdown",
      "source": [
        "## 3a. Perform TFIDF Vectorization, Categorical Encoding, Numerical Scaling"
      ],
      "metadata": {
        "id": "ZyZ3V05QiOq1"
      }
    },
    {
      "cell_type": "code",
      "source": [
        "# perform TF-IDF vectorization of text data (essay column)\n",
        "tfidf_vectorizer = TfidfVectorizer(min_df=10, ngram_range=(1,4), max_features=7000)\n",
        "tfidf_vectorizer.fit(X_train['essay'].values) # fit only on train data\n",
        "\n",
        "# use the fitted TfidfVectorizer to convert the text to vector\n",
        "X_train_essay_tfidf = tfidf_vectorizer.transform(X_train['essay'].values)\n",
        "X_test_essay_tfidf = tfidf_vectorizer.transform(X_test['essay'].values)\n",
        "\n",
        "print(X_train_essay_tfidf.shape, y_train.shape)\n",
        "print(X_test_essay_tfidf.shape, y_test.shape)"
      ],
      "metadata": {
        "id": "pV94lYT0hU2O",
        "colab": {
          "base_uri": "https://localhost:8080/"
        },
        "outputId": "ca5daaeb-4ba7-4376-f163-ca95395dd3c4"
      },
      "execution_count": null,
      "outputs": [
        {
          "output_type": "stream",
          "name": "stdout",
          "text": [
            "(53600, 7000) (53600,)\n",
            "(26400, 7000) (26400,)\n"
          ]
        }
      ]
    },
    {
      "cell_type": "code",
      "source": [
        "# merge matrices for TF-IDF (reuse existing matrices for categorical and numerical features)\n",
        "X_train_tfidf = hstack((X_train_essay_tfidf, X_train_ohe, X_train_norm)).tocsr()\n",
        "X_test_tfidf = hstack((X_test_essay_tfidf, X_test_ohe, X_test_norm)).tocsr()\n",
        "\n",
        "print(\"Final data matrix (TF-IDF)\")\n",
        "print(X_train_tfidf.shape, y_train.shape)\n",
        "print(X_test_tfidf.shape, y_test.shape)"
      ],
      "metadata": {
        "colab": {
          "base_uri": "https://localhost:8080/"
        },
        "id": "Gys45LgteC6x",
        "outputId": "b36f2edc-9dab-455b-9e34-1fed2b881af2"
      },
      "execution_count": null,
      "outputs": [
        {
          "output_type": "stream",
          "name": "stdout",
          "text": [
            "Final data matrix (TF-IDF)\n",
            "(53600, 7489) (53600,)\n",
            "(26400, 7489) (26400,)\n"
          ]
        }
      ]
    },
    {
      "cell_type": "markdown",
      "source": [
        "## 3b. Perform hyperparameter tuning (TFIDF)"
      ],
      "metadata": {
        "id": "5PRNIq01kgah"
      }
    },
    {
      "cell_type": "code",
      "source": [
        "# TF-IDF hyperparameter tuning\n",
        "multi_nb = MultinomialNB()\n",
        "parameters = {'alpha':[0.00001,0.0005, 0.0001,0.005,0.001,0.05,0.01,0.1,0.5,1,5,10,50,100]}\n",
        "clf = RandomizedSearchCV(multi_nb, parameters, cv=3, scoring='roc_auc', return_train_score=True, random_state=42)\n",
        "clf.fit(X_train_tfidf, y_train)\n",
        "\n",
        "results = pd.DataFrame.from_dict(clf.cv_results_) #cv_results_ returns dict of metrics/details on Random Search CV\n",
        "results = results.sort_values(['param_alpha'])\n",
        "\n",
        "train_auc = results['mean_train_score']\n",
        "train_auc_std = results['std_train_score']\n",
        "cv_auc = results['mean_test_score'] \n",
        "cv_auc_std= results['std_test_score']\n",
        "alpha =  results['param_alpha']\n",
        "\n",
        "plt.plot(np.log(alpha.astype(float)), train_auc, label='Train AUC score') # reference: https://stackoverflow.com/questions/59297543/why-do-i-get-the-loop-of-ufunc-does-not-support-argument-0-of-type-int-error-f\n",
        "plt.plot(np.log(alpha.astype(float)), cv_auc, label='CV AUC score')\n",
        "\n",
        "plt.scatter(np.log(alpha.astype(float)), train_auc, label='Train points')\n",
        "plt.scatter(np.log(alpha.astype(float)), cv_auc, label='CV points')\n",
        "\n",
        "plt.legend()\n",
        "plt.xlabel(\"Hyperparameter: log(alpha)\")\n",
        "plt.ylabel(\"AUC\")\n",
        "plt.title(\"Hyper parameter VS AUC plot\")\n",
        "plt.grid()\n",
        "plt.show()"
      ],
      "metadata": {
        "colab": {
          "base_uri": "https://localhost:8080/",
          "height": 295
        },
        "id": "Vmo0ZNmfnxB1",
        "outputId": "41044d1e-e7fc-4738-8b57-f9e5322a86b7"
      },
      "execution_count": null,
      "outputs": [
        {
          "output_type": "display_data",
          "data": {
            "text/plain": [
              "<Figure size 432x288 with 1 Axes>"
            ],
            "image/png": "[encoded data removed]"
          },
          "metadata": {
            "needs_background": "light"
          }
        }
      ]
    },
    {
      "cell_type": "markdown",
      "source": [
        "## 3c. Compute Performance Metrics (TFIDF)"
      ],
      "metadata": {
        "id": "iIlu3DuikwE_"
      }
    },
    {
      "cell_type": "code",
      "source": [
        "# compute and plot ROC\n",
        "best_alpha_tfidf = 100\n",
        "clf = MultinomialNB(alpha=best_alpha_tfidf)\n",
        "clf.fit(X_train_tfidf, y_train)\n",
        "\n",
        "y_train_pred = clf.predict_proba(X_train_tfidf)[:,1]\n",
        "y_test_pred = clf.predict_proba(X_test_tfidf)[:,1]\n",
        "\n",
        "train_fpr, train_tpr, tr_thresholds = roc_curve(y_train, y_train_pred) \n",
        "test_fpr, test_tpr, te_thresholds = roc_curve(y_test, y_test_pred)\n",
        "\n",
        "plt.plot(train_fpr, train_tpr, label=\"train AUC =\"+str(auc(train_fpr, train_tpr)))\n",
        "plt.plot(test_fpr, test_tpr, label=\"test AUC =\"+str(auc(test_fpr, test_tpr)))\n",
        "plt.legend()\n",
        "plt.xlabel(\"FPR\")\n",
        "plt.ylabel(\"TPR\")\n",
        "plt.title(\"ROC plot\")\n",
        "plt.grid()\n",
        "plt.show()"
      ],
      "metadata": {
        "colab": {
          "base_uri": "https://localhost:8080/",
          "height": 295
        },
        "id": "yOmcnYvukzAn",
        "outputId": "1c2d6687-1f06-4421-b925-0ac8faebd7b7"
      },
      "execution_count": null,
      "outputs": [
        {
          "output_type": "display_data",
          "data": {
            "text/plain": [
              "<Figure size 432x288 with 1 Axes>"
            ],
            "image/png": "[encoded data removed]"
          },
          "metadata": {
            "needs_background": "light"
          }
        }
      ]
    },
    {
      "cell_type": "code",
      "source": [
        "# computed class prior\n",
        "np.exp(clf.class_log_prior_)"
      ],
      "metadata": {
        "colab": {
          "base_uri": "https://localhost:8080/"
        },
        "id": "TE-6jvV0w1_o",
        "outputId": "1da66db7-6c63-475a-fd3f-106ab0a8b0c3"
      },
      "execution_count": null,
      "outputs": [
        {
          "output_type": "execute_result",
          "data": {
            "text/plain": [
              "array([0.15358209, 0.84641791])"
            ]
          },
          "metadata": {},
          "execution_count": 54
        }
      ]
    },
    {
      "cell_type": "code",
      "source": [
        "auc_tfidf = auc(test_fpr, test_tpr) # AUC score\n",
        "auc_tfidf"
      ],
      "metadata": {
        "colab": {
          "base_uri": "https://localhost:8080/"
        },
        "id": "imAJmZIrohJE",
        "outputId": "b5a12b6f-e0d2-4508-8ee6-efb6d549f135"
      },
      "execution_count": null,
      "outputs": [
        {
          "output_type": "execute_result",
          "data": {
            "text/plain": [
              "0.5673252671323246"
            ]
          },
          "metadata": {},
          "execution_count": 56
        }
      ]
    },
    {
      "cell_type": "code",
      "source": [
        "best_t = find_best_threshold(tr_thresholds, train_fpr, train_tpr)\n",
        "cm_train_tfidf = confusion_matrix(y_train, predict_with_best_t(y_train_pred, best_t))\n",
        "cm_test_tfidf = confusion_matrix(y_test, predict_with_best_t(y_test_pred, best_t))\n",
        "\n",
        "print(\"\\nTrain confusion matrix:\\n\")\n",
        "print(cm_train_tfidf)\n",
        "print(\"\\nTest confusion matrix:\\n\")\n",
        "print(cm_test_tfidf)"
      ],
      "metadata": {
        "colab": {
          "base_uri": "https://localhost:8080/"
        },
        "id": "2WRWthIppCM2",
        "outputId": "31de2524-2238-4ed6-c136-9d10759b9268"
      },
      "execution_count": null,
      "outputs": [
        {
          "output_type": "stream",
          "name": "stdout",
          "text": [
            "The maximum value of tpr*(1-fpr) is 0.3059946955329478 with threshold of 1.0\n",
            "\n",
            "Train confusion matrix:\n",
            "\n",
            "[[ 4844  3388]\n",
            " [21776 23592]]\n",
            "\n",
            "Test confusion matrix:\n",
            "\n",
            "[[ 2370  1684]\n",
            " [10897 11449]]\n"
          ]
        }
      ]
    },
    {
      "cell_type": "code",
      "source": [
        "tn, fp, fn, tp = cm_test_tfidf.ravel()\n",
        "(tn, fp, fn, tp)"
      ],
      "metadata": {
        "colab": {
          "base_uri": "https://localhost:8080/"
        },
        "id": "GwLQgJGBp8n9",
        "outputId": "d5d9a183-08ac-49af-8f2f-2305ffa5310a"
      },
      "execution_count": null,
      "outputs": [
        {
          "output_type": "execute_result",
          "data": {
            "text/plain": [
              "(2370, 1684, 10897, 11449)"
            ]
          },
          "metadata": {},
          "execution_count": 32
        }
      ]
    },
    {
      "cell_type": "code",
      "source": [
        "sns.heatmap(cm_test_tfidf, cmap='Blues', annot=True, fmt='g', cbar=False)\n",
        "plt.xlabel('predicted label')\n",
        "plt.ylabel('true label');"
      ],
      "metadata": {
        "colab": {
          "base_uri": "https://localhost:8080/",
          "height": 279
        },
        "id": "X21n56VMpCPe",
        "outputId": "7030c473-541e-4cc9-ca5d-b3c08d837dd4"
      },
      "execution_count": null,
      "outputs": [
        {
          "output_type": "display_data",
          "data": {
            "text/plain": [
              "<Figure size 432x288 with 1 Axes>"
            ],
            "image/png": "[encoded data removed]"
          },
          "metadata": {
            "needs_background": "light"
          }
        }
      ]
    },
    {
      "cell_type": "code",
      "source": [
        "print('The TPR (sensitivity/recall) is {:.2f}, while the FNR is {:.2f}'.format(tp/(fn+tp), fn/(fn+tp)))\n",
        "print('The TNR (specificity) is {:.2f}, while the FPR is {:.2f}'.format(tn/(tn+fp), fp/(tn+fp)))\n",
        "print('Precision is {:.2f}'.format(tp/(tp+fp)))"
      ],
      "metadata": {
        "colab": {
          "base_uri": "https://localhost:8080/"
        },
        "id": "aMBSpsSWqDdk",
        "outputId": "88ff9258-2749-4a4b-8fea-5edfe7721e81"
      },
      "execution_count": null,
      "outputs": [
        {
          "output_type": "stream",
          "name": "stdout",
          "text": [
            "The TPR (sensitivity/recall) is 0.51, while the FNR is 0.49\n",
            "The TNR (specificity) is 0.58, while the FPR is 0.42\n",
            "Precision is 0.87\n"
          ]
        }
      ]
    },
    {
      "cell_type": "markdown",
      "source": [
        ">While the AUC score of 0.57 is greater than 0.5, it is not very high. As the dataset is imbalanced in favour of the positive class, identifying true negatives is relatively important, lending more importance to specificity (which is not very high at 0.58). Thus, the classifier can possibly be tuned further (or subjected to better feature engineering) for better performance."
      ],
      "metadata": {
        "id": "Q-TS-InFqEXS"
      }
    },
    {
      "cell_type": "code",
      "source": [
        "# prepare list of features names\n",
        "features_tfidf = []\n",
        "features_tfidf.extend(tfidf_vectorizer.get_feature_names_out())\n",
        "features_tfidf.extend(enc.get_feature_names_out())\n",
        "features_tfidf.append('teacher_number_of_previously_posted_projects')\n",
        "features_tfidf.append('price')\n",
        "\n",
        "len(features_tfidf)"
      ],
      "metadata": {
        "colab": {
          "base_uri": "https://localhost:8080/"
        },
        "id": "gzCy-4wTpCR3",
        "outputId": "f38a5043-1efd-45c8-a376-88e866fe957b"
      },
      "execution_count": null,
      "outputs": [
        {
          "output_type": "execute_result",
          "data": {
            "text/plain": [
              "7489"
            ]
          },
          "metadata": {},
          "execution_count": 60
        }
      ]
    },
    {
      "cell_type": "code",
      "source": [
        "# obtain top 20 features for positive class based on prob scores\n",
        "# feature_log_prob_ returns log prob for each class\n",
        "sorted_idx = np.argsort(clf.feature_log_prob_[1])[::-1][:20] # [::-1] reverses the array returned by argsort() to desc order and [:n] gives that top n elements\n",
        "\n",
        "for p,q in zip(np.array(features_tfidf)[sorted_idx], clf.feature_log_prob_[1][sorted_idx]): # need to wrap features_bow (which is a list) as an array\n",
        "  print('{:45}:{}'.format(p,q))"
      ],
      "metadata": {
        "colab": {
          "base_uri": "https://localhost:8080/"
        },
        "id": "yGYn-xk2qhiq",
        "outputId": "0b97db89-e467-4705-cf90-a70582c59ff1"
      },
      "execution_count": null,
      "outputs": [
        {
          "output_type": "stream",
          "name": "stdout",
          "text": [
            "price                                        :-3.5223951568406964\n",
            "x1_mrs                                       :-4.130306996812369\n",
            "x2_grades_prek_2                             :-4.400216712761626\n",
            "x1_ms                                        :-4.532820088491508\n",
            "x2_grades_3_5                                :-4.558247310090291\n",
            "x3_literacy_language                         :-5.001624758339693\n",
            "x2_grades_6_8                                :-5.36272833855169\n",
            "x3_math_science                              :-5.407534673334871\n",
            "x0_ca                                        :-5.4118447045294715\n",
            "x3_literacy_language math_science            :-5.468372501920964\n",
            "students                                     :-5.636605759169363\n",
            "x3_health_sports                             :-5.670848520947397\n",
            "x2_grades_9_12                               :-5.814855276093468\n",
            "x1_mr                                        :-5.826737491893196\n",
            "x4_literacy                                  :-5.89028417308651\n",
            "x4_literacy mathematics                      :-6.014758616294381\n",
            "teacher_number_of_previously_posted_projects :-6.030981846380589\n",
            "x0_ny                                        :-6.158529673171719\n",
            "x0_tx                                        :-6.170225712934911\n",
            "x0_fl                                        :-6.326126731342546\n"
          ]
        }
      ]
    },
    {
      "cell_type": "code",
      "source": [
        "# use np.exp() to obtain normal probability\n",
        "sorted_idx = np.argsort(np.exp(clf.feature_log_prob_[1]))[::-1][:20]\n",
        "\n",
        "for p,q in zip(np.array(features_tfidf)[sorted_idx], np.exp(clf.feature_log_prob_[1])[sorted_idx]):\n",
        "  print('{:45}:{}'.format(p,q))"
      ],
      "metadata": {
        "colab": {
          "base_uri": "https://localhost:8080/"
        },
        "id": "IT4E9eVVqZTi",
        "outputId": "98ba9a0a-3378-4722-d0f0-37ec2ef1b1d3"
      },
      "execution_count": null,
      "outputs": [
        {
          "output_type": "stream",
          "name": "stdout",
          "text": [
            "price                                        :0.02952862471319333\n",
            "x1_mrs                                       :0.01607794218786052\n",
            "x2_grades_prek_2                             :0.012274679535110881\n",
            "x1_ms                                        :0.010750316440764626\n",
            "x2_grades_3_5                                :0.010480411767278111\n",
            "x3_literacy_language                         :0.0067270083522414925\n",
            "x2_grades_6_8                                :0.004688097924696816\n",
            "x3_math_science                              :0.004482677865319142\n",
            "x0_ca                                        :0.004463398960070109\n",
            "x3_literacy_language math_science            :0.004218091510522019\n",
            "students                                     :0.0035649481864758557\n",
            "x3_health_sports                             :0.0034449409310520255\n",
            "x2_grades_9_12                               :0.0029829119949113182\n",
            "x1_mr                                        :0.002947678133594108\n",
            "x4_literacy                                  :0.0027661905083186974\n",
            "x4_literacy mathematics                      :0.0024424378581021106\n",
            "teacher_number_of_previously_posted_projects :0.002403133312158628\n",
            "x0_ny                                        :0.002115361258704661\n",
            "x0_tx                                        :0.0020907640347662326\n",
            "x0_fl                                        :0.0017889494491433813\n"
          ]
        }
      ]
    },
    {
      "cell_type": "code",
      "source": [
        "# obtain top 20 features for negative class based on prob scores\n",
        "sorted_idx = np.argsort(clf.feature_log_prob_[0])[::-1][:20] # [::-1] reverses the array returned by argsort() to desc order and [:n] gives that top n elements\n",
        "\n",
        "for p,q in zip(np.array(features_tfidf)[sorted_idx], clf.feature_log_prob_[0][sorted_idx]): # need to wrap features_bow (which is a list) as an array\n",
        "  print('{:45}:{}'.format(p,q))"
      ],
      "metadata": {
        "colab": {
          "base_uri": "https://localhost:8080/"
        },
        "id": "-eHVdSlophk5",
        "outputId": "6c5a33f5-f4ec-40c0-f14f-50560a94425b"
      },
      "execution_count": null,
      "outputs": [
        {
          "output_type": "stream",
          "name": "stdout",
          "text": [
            "price                                        :-4.6718711434710745\n",
            "x1_mrs                                       :-5.344185361908\n",
            "x2_grades_prek_2                             :-5.553629666145618\n",
            "x1_ms                                        :-5.637011275084669\n",
            "x2_grades_3_5                                :-5.75797295295968\n",
            "x3_literacy_language                         :-6.2418256206304035\n",
            "x3_math_science                              :-6.298608126734187\n",
            "x2_grades_6_8                                :-6.413167581427323\n",
            "x0_ca                                        :-6.589987061067294\n",
            "x3_literacy_language math_science            :-6.731190370931776\n",
            "students                                     :-6.750494547764777\n",
            "x2_grades_9_12                               :-6.820358315502957\n",
            "x3_health_sports                             :-6.8423602506964425\n",
            "x1_mr                                        :-6.875750536246975\n",
            "x0_tx                                        :-6.978315886932471\n",
            "x4_literacy                                  :-7.180741087197215\n",
            "x4_literacy mathematics                      :-7.204802398357333\n",
            "x0_fl                                        :-7.238861417949251\n",
            "x4_mathematics                               :-7.312363879942178\n",
            "x0_ny                                        :-7.334644150333843\n"
          ]
        }
      ]
    },
    {
      "cell_type": "markdown",
      "source": [
        "## 4. Summary"
      ],
      "metadata": {
        "id": "qRDCPbK-rXHi"
      }
    },
    {
      "cell_type": "code",
      "source": [
        "%pip install prettytable"
      ],
      "metadata": {
        "colab": {
          "base_uri": "https://localhost:8080/"
        },
        "id": "AwfCICZS0PJ5",
        "outputId": "6d0580ce-17e1-44dd-c9ec-d8639f2d0772"
      },
      "execution_count": null,
      "outputs": [
        {
          "output_type": "stream",
          "name": "stdout",
          "text": [
            "Requirement already satisfied: prettytable in /usr/local/lib/python3.7/dist-packages (3.2.0)\n",
            "Requirement already satisfied: importlib-metadata in /usr/local/lib/python3.7/dist-packages (from prettytable) (4.11.2)\n",
            "Requirement already satisfied: wcwidth in /usr/local/lib/python3.7/dist-packages (from prettytable) (0.2.5)\n",
            "Requirement already satisfied: typing-extensions>=3.6.4 in /usr/local/lib/python3.7/dist-packages (from importlib-metadata->prettytable) (3.10.0.2)\n",
            "Requirement already satisfied: zipp>=0.5 in /usr/local/lib/python3.7/dist-packages (from importlib-metadata->prettytable) (3.7.0)\n"
          ]
        }
      ]
    },
    {
      "cell_type": "code",
      "source": [
        "from prettytable import PrettyTable\n",
        "x = PrettyTable()"
      ],
      "metadata": {
        "id": "EWgrlyJysJh0"
      },
      "execution_count": null,
      "outputs": []
    },
    {
      "cell_type": "code",
      "source": [
        "x.field_names = [\"Vectorizer\", \"Model\", \"Hyperparameter\", \"AUC\"]\n",
        "x.add_rows(\n",
        "    [\n",
        "        [\"BoW\", 'Multinomial Naive Bayes', best_alpha_bow, auc_bow],\n",
        "        [\"TFIDF\", 'Multinomial Naive Bayes', best_alpha_tfidf, auc_tfidf]\n",
        "    ]\n",
        ")\n",
        "print(x)"
      ],
      "metadata": {
        "colab": {
          "base_uri": "https://localhost:8080/"
        },
        "id": "fdc-0T2bsOcz",
        "outputId": "6a37b865-7dff-44c1-f118-c63f88f4794e"
      },
      "execution_count": null,
      "outputs": [
        {
          "output_type": "stream",
          "name": "stdout",
          "text": [
            "+------------+-------------------------+----------------+--------------------+\n",
            "| Vectorizer |          Model          | Hyperparameter |        AUC         |\n",
            "+------------+-------------------------+----------------+--------------------+\n",
            "|    BoW     | Multinomial Naive Bayes |      100       | 0.6502198228241659 |\n",
            "|   TFIDF    | Multinomial Naive Bayes |      100       | 0.5673252671323246 |\n",
            "+------------+-------------------------+----------------+--------------------+\n"
          ]
        }
      ]
    },
    {
      "cell_type": "code",
      "source": [
        ""
      ],
      "metadata": {
        "id": "McUPiOyEsu_W"
      },
      "execution_count": null,
      "outputs": []
    }
  ]
}